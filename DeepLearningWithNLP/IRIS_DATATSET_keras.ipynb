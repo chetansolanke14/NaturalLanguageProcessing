{
  "nbformat": 4,
  "nbformat_minor": 0,
  "metadata": {
    "colab": {
      "name": "IRIS_DATATSET_keras.ipynb",
      "version": "0.3.2",
      "provenance": [],
      "include_colab_link": true
    },
    "kernelspec": {
      "name": "python3",
      "display_name": "Python 3"
    }
  },
  "cells": [
    {
      "cell_type": "markdown",
      "metadata": {
        "id": "view-in-github",
        "colab_type": "text"
      },
      "source": [
        "<a href=\"https://colab.research.google.com/github/chetansolanke14/NaturalLanguageProcessing/blob/master/DeepLearningWithNLP/IRIS_DATATSET_keras.ipynb\" target=\"_parent\"><img src=\"https://colab.research.google.com/assets/colab-badge.svg\" alt=\"Open In Colab\"/></a>"
      ]
    },
    {
      "cell_type": "code",
      "metadata": {
        "id": "82YwMO0Cfl1q",
        "colab_type": "code",
        "colab": {}
      },
      "source": [
        "import numpy as np\n",
        "from sklearn.datasets import load_iris"
      ],
      "execution_count": 0,
      "outputs": []
    },
    {
      "cell_type": "code",
      "metadata": {
        "id": "Y7B3OoUafn6K",
        "colab_type": "code",
        "colab": {}
      },
      "source": [
        "iris =load_iris()"
      ],
      "execution_count": 0,
      "outputs": []
    },
    {
      "cell_type": "code",
      "metadata": {
        "id": "hqOcZzKVfzua",
        "colab_type": "code",
        "colab": {
          "base_uri": "https://localhost:8080/",
          "height": 34
        },
        "outputId": "b29c8eb7-6be7-4195-ba9c-9a20a7da9b9e"
      },
      "source": [
        "type(iris)"
      ],
      "execution_count": 4,
      "outputs": [
        {
          "output_type": "execute_result",
          "data": {
            "text/plain": [
              "sklearn.utils.Bunch"
            ]
          },
          "metadata": {
            "tags": []
          },
          "execution_count": 4
        }
      ]
    },
    {
      "cell_type": "code",
      "metadata": {
        "id": "FNvXChE3f04m",
        "colab_type": "code",
        "colab": {
          "base_uri": "https://localhost:8080/",
          "height": 1108
        },
        "outputId": "a2458714-6570-4058-fb24-d12f86bc9dd9"
      },
      "source": [
        "print(iris.DESCR)"
      ],
      "execution_count": 5,
      "outputs": [
        {
          "output_type": "stream",
          "text": [
            ".. _iris_dataset:\n",
            "\n",
            "Iris plants dataset\n",
            "--------------------\n",
            "\n",
            "**Data Set Characteristics:**\n",
            "\n",
            "    :Number of Instances: 150 (50 in each of three classes)\n",
            "    :Number of Attributes: 4 numeric, predictive attributes and the class\n",
            "    :Attribute Information:\n",
            "        - sepal length in cm\n",
            "        - sepal width in cm\n",
            "        - petal length in cm\n",
            "        - petal width in cm\n",
            "        - class:\n",
            "                - Iris-Setosa\n",
            "                - Iris-Versicolour\n",
            "                - Iris-Virginica\n",
            "                \n",
            "    :Summary Statistics:\n",
            "\n",
            "    ============== ==== ==== ======= ===== ====================\n",
            "                    Min  Max   Mean    SD   Class Correlation\n",
            "    ============== ==== ==== ======= ===== ====================\n",
            "    sepal length:   4.3  7.9   5.84   0.83    0.7826\n",
            "    sepal width:    2.0  4.4   3.05   0.43   -0.4194\n",
            "    petal length:   1.0  6.9   3.76   1.76    0.9490  (high!)\n",
            "    petal width:    0.1  2.5   1.20   0.76    0.9565  (high!)\n",
            "    ============== ==== ==== ======= ===== ====================\n",
            "\n",
            "    :Missing Attribute Values: None\n",
            "    :Class Distribution: 33.3% for each of 3 classes.\n",
            "    :Creator: R.A. Fisher\n",
            "    :Donor: Michael Marshall (MARSHALL%PLU@io.arc.nasa.gov)\n",
            "    :Date: July, 1988\n",
            "\n",
            "The famous Iris database, first used by Sir R.A. Fisher. The dataset is taken\n",
            "from Fisher's paper. Note that it's the same as in R, but not as in the UCI\n",
            "Machine Learning Repository, which has two wrong data points.\n",
            "\n",
            "This is perhaps the best known database to be found in the\n",
            "pattern recognition literature.  Fisher's paper is a classic in the field and\n",
            "is referenced frequently to this day.  (See Duda & Hart, for example.)  The\n",
            "data set contains 3 classes of 50 instances each, where each class refers to a\n",
            "type of iris plant.  One class is linearly separable from the other 2; the\n",
            "latter are NOT linearly separable from each other.\n",
            "\n",
            ".. topic:: References\n",
            "\n",
            "   - Fisher, R.A. \"The use of multiple measurements in taxonomic problems\"\n",
            "     Annual Eugenics, 7, Part II, 179-188 (1936); also in \"Contributions to\n",
            "     Mathematical Statistics\" (John Wiley, NY, 1950).\n",
            "   - Duda, R.O., & Hart, P.E. (1973) Pattern Classification and Scene Analysis.\n",
            "     (Q327.D83) John Wiley & Sons.  ISBN 0-471-22361-1.  See page 218.\n",
            "   - Dasarathy, B.V. (1980) \"Nosing Around the Neighborhood: A New System\n",
            "     Structure and Classification Rule for Recognition in Partially Exposed\n",
            "     Environments\".  IEEE Transactions on Pattern Analysis and Machine\n",
            "     Intelligence, Vol. PAMI-2, No. 1, 67-71.\n",
            "   - Gates, G.W. (1972) \"The Reduced Nearest Neighbor Rule\".  IEEE Transactions\n",
            "     on Information Theory, May 1972, 431-433.\n",
            "   - See also: 1988 MLC Proceedings, 54-64.  Cheeseman et al\"s AUTOCLASS II\n",
            "     conceptual clustering system finds 3 classes in the data.\n",
            "   - Many, many more ...\n"
          ],
          "name": "stdout"
        }
      ]
    },
    {
      "cell_type": "code",
      "metadata": {
        "id": "sJs5kgb1f3lk",
        "colab_type": "code",
        "colab": {}
      },
      "source": [
        "X =iris.data"
      ],
      "execution_count": 0,
      "outputs": []
    },
    {
      "cell_type": "code",
      "metadata": {
        "id": "lm3KbSnXf-lI",
        "colab_type": "code",
        "colab": {}
      },
      "source": [
        "y =iris.target"
      ],
      "execution_count": 0,
      "outputs": []
    },
    {
      "cell_type": "code",
      "metadata": {
        "id": "E495e5krgB6K",
        "colab_type": "code",
        "colab": {
          "base_uri": "https://localhost:8080/",
          "height": 156
        },
        "outputId": "d235a8b6-c29e-4ca8-d43f-4fdc6872dcd9"
      },
      "source": [
        "y"
      ],
      "execution_count": 11,
      "outputs": [
        {
          "output_type": "execute_result",
          "data": {
            "text/plain": [
              "array([0, 0, 0, 0, 0, 0, 0, 0, 0, 0, 0, 0, 0, 0, 0, 0, 0, 0, 0, 0, 0, 0,\n",
              "       0, 0, 0, 0, 0, 0, 0, 0, 0, 0, 0, 0, 0, 0, 0, 0, 0, 0, 0, 0, 0, 0,\n",
              "       0, 0, 0, 0, 0, 0, 1, 1, 1, 1, 1, 1, 1, 1, 1, 1, 1, 1, 1, 1, 1, 1,\n",
              "       1, 1, 1, 1, 1, 1, 1, 1, 1, 1, 1, 1, 1, 1, 1, 1, 1, 1, 1, 1, 1, 1,\n",
              "       1, 1, 1, 1, 1, 1, 1, 1, 1, 1, 1, 1, 2, 2, 2, 2, 2, 2, 2, 2, 2, 2,\n",
              "       2, 2, 2, 2, 2, 2, 2, 2, 2, 2, 2, 2, 2, 2, 2, 2, 2, 2, 2, 2, 2, 2,\n",
              "       2, 2, 2, 2, 2, 2, 2, 2, 2, 2, 2, 2, 2, 2, 2, 2, 2, 2])"
            ]
          },
          "metadata": {
            "tags": []
          },
          "execution_count": 11
        }
      ]
    },
    {
      "cell_type": "code",
      "metadata": {
        "id": "Z-Euj5i8gE0Z",
        "colab_type": "code",
        "colab": {}
      },
      "source": [
        "#class . 0 -->[1,0,0]\n",
        "#class . 1 -->[0,1,0]\n",
        "#class . 2 -->[0,0,1]\n"
      ],
      "execution_count": 0,
      "outputs": []
    },
    {
      "cell_type": "code",
      "metadata": {
        "id": "Wq8F3IshgeUG",
        "colab_type": "code",
        "colab": {}
      },
      "source": [
        "from keras.utils import to_categorical"
      ],
      "execution_count": 0,
      "outputs": []
    },
    {
      "cell_type": "code",
      "metadata": {
        "id": "ePYhIq9AglE4",
        "colab_type": "code",
        "colab": {}
      },
      "source": [
        "y=to_categorical(y)"
      ],
      "execution_count": 0,
      "outputs": []
    },
    {
      "cell_type": "code",
      "metadata": {
        "id": "WaEV_lBvgr6N",
        "colab_type": "code",
        "colab": {
          "base_uri": "https://localhost:8080/",
          "height": 34
        },
        "outputId": "70abd038-fe60-41a1-e949-e27c8b55da36"
      },
      "source": [
        "y.shape"
      ],
      "execution_count": 14,
      "outputs": [
        {
          "output_type": "execute_result",
          "data": {
            "text/plain": [
              "(150, 3)"
            ]
          },
          "metadata": {
            "tags": []
          },
          "execution_count": 14
        }
      ]
    },
    {
      "cell_type": "code",
      "metadata": {
        "id": "cuWN7ET6gs2b",
        "colab_type": "code",
        "colab": {
          "base_uri": "https://localhost:8080/",
          "height": 102
        },
        "outputId": "d52640e0-767a-4913-c12a-b37ce9144319"
      },
      "source": [
        "y[:5]"
      ],
      "execution_count": 17,
      "outputs": [
        {
          "output_type": "execute_result",
          "data": {
            "text/plain": [
              "array([[1., 0., 0.],\n",
              "       [1., 0., 0.],\n",
              "       [1., 0., 0.],\n",
              "       [1., 0., 0.],\n",
              "       [1., 0., 0.]], dtype=float32)"
            ]
          },
          "metadata": {
            "tags": []
          },
          "execution_count": 17
        }
      ]
    },
    {
      "cell_type": "code",
      "metadata": {
        "id": "YzzuJMw7gtzt",
        "colab_type": "code",
        "colab": {}
      },
      "source": [
        "from sklearn.model_selection import train_test_split"
      ],
      "execution_count": 0,
      "outputs": []
    },
    {
      "cell_type": "code",
      "metadata": {
        "id": "9jJa-tKtg2Uw",
        "colab_type": "code",
        "colab": {}
      },
      "source": [
        "X_train, X_test, y_train, y_test = train_test_split(X, y, \n",
        "                                                    test_size=0.33,\n",
        "                                                    random_state=42)"
      ],
      "execution_count": 0,
      "outputs": []
    },
    {
      "cell_type": "code",
      "metadata": {
        "id": "ZdKw4bJQg9YB",
        "colab_type": "code",
        "colab": {}
      },
      "source": [
        "from sklearn.preprocessing import MinMaxScaler"
      ],
      "execution_count": 0,
      "outputs": []
    },
    {
      "cell_type": "code",
      "metadata": {
        "id": "IVZBVDhHhHLy",
        "colab_type": "code",
        "colab": {}
      },
      "source": [
        "scaler = MinMaxScaler()"
      ],
      "execution_count": 0,
      "outputs": []
    },
    {
      "cell_type": "code",
      "metadata": {
        "id": "8Vpcl4VGhdGr",
        "colab_type": "code",
        "colab": {
          "base_uri": "https://localhost:8080/",
          "height": 34
        },
        "outputId": "6d417534-7704-41ba-cfaa-62b0dc4add39"
      },
      "source": [
        "scaler.fit(X_train)"
      ],
      "execution_count": 24,
      "outputs": [
        {
          "output_type": "execute_result",
          "data": {
            "text/plain": [
              "MinMaxScaler(copy=True, feature_range=(0, 1))"
            ]
          },
          "metadata": {
            "tags": []
          },
          "execution_count": 24
        }
      ]
    },
    {
      "cell_type": "code",
      "metadata": {
        "id": "HzJQD-B8hfSu",
        "colab_type": "code",
        "colab": {}
      },
      "source": [
        "scaled_x_train=scaler.transform(X_train)"
      ],
      "execution_count": 0,
      "outputs": []
    },
    {
      "cell_type": "code",
      "metadata": {
        "id": "MHgv_iiFhkTt",
        "colab_type": "code",
        "colab": {}
      },
      "source": [
        "scaled_x_test=scaler.transform(X_test)"
      ],
      "execution_count": 0,
      "outputs": []
    },
    {
      "cell_type": "code",
      "metadata": {
        "id": "4pyFoVi-hmjr",
        "colab_type": "code",
        "colab": {}
      },
      "source": [
        "from keras.models import Sequential\n",
        "from keras.layers import Dense"
      ],
      "execution_count": 0,
      "outputs": []
    },
    {
      "cell_type": "code",
      "metadata": {
        "id": "qNlWnZSHhtK0",
        "colab_type": "code",
        "colab": {
          "base_uri": "https://localhost:8080/",
          "height": 88
        },
        "outputId": "037f461d-91cd-4a94-fef7-ae7710a088cf"
      },
      "source": [
        "model =Sequential()"
      ],
      "execution_count": 28,
      "outputs": [
        {
          "output_type": "stream",
          "text": [
            "WARNING: Logging before flag parsing goes to stderr.\n",
            "W0618 16:58:55.603253 140129305495424 deprecation_wrapper.py:119] From /usr/local/lib/python3.6/dist-packages/keras/backend/tensorflow_backend.py:74: The name tf.get_default_graph is deprecated. Please use tf.compat.v1.get_default_graph instead.\n",
            "\n"
          ],
          "name": "stderr"
        }
      ]
    },
    {
      "cell_type": "code",
      "metadata": {
        "id": "rcEhIbk1hvWh",
        "colab_type": "code",
        "colab": {
          "base_uri": "https://localhost:8080/",
          "height": 173
        },
        "outputId": "b601bf2a-9843-4b3c-8fda-4507bde55221"
      },
      "source": [
        "model.add(Dense(8,input_dim=4,activation='relu'))\n",
        "model.add(Dense(8,input_dim=4,activation='relu'))\n",
        "model.add(Dense(3,activation='softmax'))\n",
        "model.compile(loss='categorical_crossentropy', optimizer='adam',\n",
        "             metrics=['accuracy'])"
      ],
      "execution_count": 29,
      "outputs": [
        {
          "output_type": "stream",
          "text": [
            "W0618 17:01:24.459962 140129305495424 deprecation_wrapper.py:119] From /usr/local/lib/python3.6/dist-packages/keras/backend/tensorflow_backend.py:517: The name tf.placeholder is deprecated. Please use tf.compat.v1.placeholder instead.\n",
            "\n",
            "W0618 17:01:24.471904 140129305495424 deprecation_wrapper.py:119] From /usr/local/lib/python3.6/dist-packages/keras/backend/tensorflow_backend.py:4138: The name tf.random_uniform is deprecated. Please use tf.random.uniform instead.\n",
            "\n",
            "W0618 17:01:24.520656 140129305495424 deprecation_wrapper.py:119] From /usr/local/lib/python3.6/dist-packages/keras/optimizers.py:790: The name tf.train.Optimizer is deprecated. Please use tf.compat.v1.train.Optimizer instead.\n",
            "\n",
            "W0618 17:01:24.546848 140129305495424 deprecation_wrapper.py:119] From /usr/local/lib/python3.6/dist-packages/keras/backend/tensorflow_backend.py:3295: The name tf.log is deprecated. Please use tf.math.log instead.\n",
            "\n"
          ],
          "name": "stderr"
        }
      ]
    },
    {
      "cell_type": "code",
      "metadata": {
        "id": "X02waUPHiTsT",
        "colab_type": "code",
        "colab": {
          "base_uri": "https://localhost:8080/",
          "height": 238
        },
        "outputId": "8d921af2-fcac-4242-bff2-e66820c3bf95"
      },
      "source": [
        "model.summary()"
      ],
      "execution_count": 30,
      "outputs": [
        {
          "output_type": "stream",
          "text": [
            "_________________________________________________________________\n",
            "Layer (type)                 Output Shape              Param #   \n",
            "=================================================================\n",
            "dense_1 (Dense)              (None, 8)                 40        \n",
            "_________________________________________________________________\n",
            "dense_2 (Dense)              (None, 8)                 72        \n",
            "_________________________________________________________________\n",
            "dense_3 (Dense)              (None, 3)                 27        \n",
            "=================================================================\n",
            "Total params: 139\n",
            "Trainable params: 139\n",
            "Non-trainable params: 0\n",
            "_________________________________________________________________\n"
          ],
          "name": "stdout"
        }
      ]
    },
    {
      "cell_type": "code",
      "metadata": {
        "id": "G1WCVRXJiXU8",
        "colab_type": "code",
        "colab": {
          "base_uri": "https://localhost:8080/",
          "height": 5134
        },
        "outputId": "5b6b4f34-59c7-4b57-c964-a8425f75ecfd"
      },
      "source": [
        "model.fit(scaled_x_train,y_train, epochs=150, verbose=2)"
      ],
      "execution_count": 32,
      "outputs": [
        {
          "output_type": "stream",
          "text": [
            "Epoch 1/150\n",
            " - 0s - loss: 0.4767 - acc: 0.6700\n",
            "Epoch 2/150\n",
            " - 0s - loss: 0.4763 - acc: 0.6800\n",
            "Epoch 3/150\n",
            " - 0s - loss: 0.4758 - acc: 0.6800\n",
            "Epoch 4/150\n",
            " - 0s - loss: 0.4753 - acc: 0.6800\n",
            "Epoch 5/150\n",
            " - 0s - loss: 0.4747 - acc: 0.6800\n",
            "Epoch 6/150\n",
            " - 0s - loss: 0.4742 - acc: 0.6800\n",
            "Epoch 7/150\n",
            " - 0s - loss: 0.4736 - acc: 0.6800\n",
            "Epoch 8/150\n",
            " - 0s - loss: 0.4726 - acc: 0.6800\n",
            "Epoch 9/150\n",
            " - 0s - loss: 0.4720 - acc: 0.6700\n",
            "Epoch 10/150\n",
            " - 0s - loss: 0.4714 - acc: 0.6700\n",
            "Epoch 11/150\n",
            " - 0s - loss: 0.4708 - acc: 0.6700\n",
            "Epoch 12/150\n",
            " - 0s - loss: 0.4703 - acc: 0.6700\n",
            "Epoch 13/150\n",
            " - 0s - loss: 0.4699 - acc: 0.6700\n",
            "Epoch 14/150\n",
            " - 0s - loss: 0.4695 - acc: 0.6700\n",
            "Epoch 15/150\n",
            " - 0s - loss: 0.4688 - acc: 0.6700\n",
            "Epoch 16/150\n",
            " - 0s - loss: 0.4681 - acc: 0.6700\n",
            "Epoch 17/150\n",
            " - 0s - loss: 0.4678 - acc: 0.6700\n",
            "Epoch 18/150\n",
            " - 0s - loss: 0.4672 - acc: 0.6600\n",
            "Epoch 19/150\n",
            " - 0s - loss: 0.4666 - acc: 0.6600\n",
            "Epoch 20/150\n",
            " - 0s - loss: 0.4661 - acc: 0.6500\n",
            "Epoch 21/150\n",
            " - 0s - loss: 0.4656 - acc: 0.6600\n",
            "Epoch 22/150\n",
            " - 0s - loss: 0.4652 - acc: 0.6700\n",
            "Epoch 23/150\n",
            " - 0s - loss: 0.4647 - acc: 0.6700\n",
            "Epoch 24/150\n",
            " - 0s - loss: 0.4642 - acc: 0.6700\n",
            "Epoch 25/150\n",
            " - 0s - loss: 0.4638 - acc: 0.6700\n",
            "Epoch 26/150\n",
            " - 0s - loss: 0.4632 - acc: 0.6700\n",
            "Epoch 27/150\n",
            " - 0s - loss: 0.4629 - acc: 0.6700\n",
            "Epoch 28/150\n",
            " - 0s - loss: 0.4625 - acc: 0.6600\n",
            "Epoch 29/150\n",
            " - 0s - loss: 0.4620 - acc: 0.6700\n",
            "Epoch 30/150\n",
            " - 0s - loss: 0.4613 - acc: 0.6700\n",
            "Epoch 31/150\n",
            " - 0s - loss: 0.4612 - acc: 0.6700\n",
            "Epoch 32/150\n",
            " - 0s - loss: 0.4604 - acc: 0.6800\n",
            "Epoch 33/150\n",
            " - 0s - loss: 0.4602 - acc: 0.6900\n",
            "Epoch 34/150\n",
            " - 0s - loss: 0.4598 - acc: 0.6900\n",
            "Epoch 35/150\n",
            " - 0s - loss: 0.4594 - acc: 0.6900\n",
            "Epoch 36/150\n",
            " - 0s - loss: 0.4589 - acc: 0.6900\n",
            "Epoch 37/150\n",
            " - 0s - loss: 0.4585 - acc: 0.6900\n",
            "Epoch 38/150\n",
            " - 0s - loss: 0.4579 - acc: 0.6800\n",
            "Epoch 39/150\n",
            " - 0s - loss: 0.4577 - acc: 0.6800\n",
            "Epoch 40/150\n",
            " - 0s - loss: 0.4571 - acc: 0.6800\n",
            "Epoch 41/150\n",
            " - 0s - loss: 0.4567 - acc: 0.6800\n",
            "Epoch 42/150\n",
            " - 0s - loss: 0.4562 - acc: 0.6800\n",
            "Epoch 43/150\n",
            " - 0s - loss: 0.4560 - acc: 0.6800\n",
            "Epoch 44/150\n",
            " - 0s - loss: 0.4554 - acc: 0.6800\n",
            "Epoch 45/150\n",
            " - 0s - loss: 0.4551 - acc: 0.6800\n",
            "Epoch 46/150\n",
            " - 0s - loss: 0.4548 - acc: 0.6800\n",
            "Epoch 47/150\n",
            " - 0s - loss: 0.4543 - acc: 0.6800\n",
            "Epoch 48/150\n",
            " - 0s - loss: 0.4539 - acc: 0.6800\n",
            "Epoch 49/150\n",
            " - 0s - loss: 0.4535 - acc: 0.6800\n",
            "Epoch 50/150\n",
            " - 0s - loss: 0.4530 - acc: 0.6800\n",
            "Epoch 51/150\n",
            " - 0s - loss: 0.4530 - acc: 0.6800\n",
            "Epoch 52/150\n",
            " - 0s - loss: 0.4524 - acc: 0.6800\n",
            "Epoch 53/150\n",
            " - 0s - loss: 0.4520 - acc: 0.6800\n",
            "Epoch 54/150\n",
            " - 0s - loss: 0.4519 - acc: 0.6800\n",
            "Epoch 55/150\n",
            " - 0s - loss: 0.4518 - acc: 0.6800\n",
            "Epoch 56/150\n",
            " - 0s - loss: 0.4512 - acc: 0.6800\n",
            "Epoch 57/150\n",
            " - 0s - loss: 0.4507 - acc: 0.6800\n",
            "Epoch 58/150\n",
            " - 0s - loss: 0.4500 - acc: 0.6800\n",
            "Epoch 59/150\n",
            " - 0s - loss: 0.4492 - acc: 0.7000\n",
            "Epoch 60/150\n",
            " - 0s - loss: 0.4488 - acc: 0.7000\n",
            "Epoch 61/150\n",
            " - 0s - loss: 0.4486 - acc: 0.7000\n",
            "Epoch 62/150\n",
            " - 0s - loss: 0.4484 - acc: 0.7200\n",
            "Epoch 63/150\n",
            " - 0s - loss: 0.4480 - acc: 0.7400\n",
            "Epoch 64/150\n",
            " - 0s - loss: 0.4477 - acc: 0.7400\n",
            "Epoch 65/150\n",
            " - 0s - loss: 0.4476 - acc: 0.7500\n",
            "Epoch 66/150\n",
            " - 0s - loss: 0.4471 - acc: 0.7700\n",
            "Epoch 67/150\n",
            " - 0s - loss: 0.4467 - acc: 0.7700\n",
            "Epoch 68/150\n",
            " - 0s - loss: 0.4463 - acc: 0.7700\n",
            "Epoch 69/150\n",
            " - 0s - loss: 0.4461 - acc: 0.7900\n",
            "Epoch 70/150\n",
            " - 0s - loss: 0.4457 - acc: 0.8000\n",
            "Epoch 71/150\n",
            " - 0s - loss: 0.4454 - acc: 0.8000\n",
            "Epoch 72/150\n",
            " - 0s - loss: 0.4448 - acc: 0.7900\n",
            "Epoch 73/150\n",
            " - 0s - loss: 0.4444 - acc: 0.7700\n",
            "Epoch 74/150\n",
            " - 0s - loss: 0.4437 - acc: 0.7500\n",
            "Epoch 75/150\n",
            " - 0s - loss: 0.4438 - acc: 0.7400\n",
            "Epoch 76/150\n",
            " - 0s - loss: 0.4427 - acc: 0.7400\n",
            "Epoch 77/150\n",
            " - 0s - loss: 0.4423 - acc: 0.7300\n",
            "Epoch 78/150\n",
            " - 0s - loss: 0.4419 - acc: 0.7200\n",
            "Epoch 79/150\n",
            " - 0s - loss: 0.4416 - acc: 0.7200\n",
            "Epoch 80/150\n",
            " - 0s - loss: 0.4413 - acc: 0.7100\n",
            "Epoch 81/150\n",
            " - 0s - loss: 0.4409 - acc: 0.7100\n",
            "Epoch 82/150\n",
            " - 0s - loss: 0.4406 - acc: 0.7100\n",
            "Epoch 83/150\n",
            " - 0s - loss: 0.4401 - acc: 0.7100\n",
            "Epoch 84/150\n",
            " - 0s - loss: 0.4397 - acc: 0.7100\n",
            "Epoch 85/150\n",
            " - 0s - loss: 0.4391 - acc: 0.7200\n",
            "Epoch 86/150\n",
            " - 0s - loss: 0.4388 - acc: 0.7200\n",
            "Epoch 87/150\n",
            " - 0s - loss: 0.4384 - acc: 0.7200\n",
            "Epoch 88/150\n",
            " - 0s - loss: 0.4380 - acc: 0.7200\n",
            "Epoch 89/150\n",
            " - 0s - loss: 0.4376 - acc: 0.7200\n",
            "Epoch 90/150\n",
            " - 0s - loss: 0.4372 - acc: 0.7400\n",
            "Epoch 91/150\n",
            " - 0s - loss: 0.4367 - acc: 0.7400\n",
            "Epoch 92/150\n",
            " - 0s - loss: 0.4363 - acc: 0.7400\n",
            "Epoch 93/150\n",
            " - 0s - loss: 0.4358 - acc: 0.7400\n",
            "Epoch 94/150\n",
            " - 0s - loss: 0.4353 - acc: 0.7500\n",
            "Epoch 95/150\n",
            " - 0s - loss: 0.4348 - acc: 0.7700\n",
            "Epoch 96/150\n",
            " - 0s - loss: 0.4342 - acc: 0.8000\n",
            "Epoch 97/150\n",
            " - 0s - loss: 0.4334 - acc: 0.8100\n",
            "Epoch 98/150\n",
            " - 0s - loss: 0.4327 - acc: 0.8100\n",
            "Epoch 99/150\n",
            " - 0s - loss: 0.4316 - acc: 0.8000\n",
            "Epoch 100/150\n",
            " - 0s - loss: 0.4305 - acc: 0.8100\n",
            "Epoch 101/150\n",
            " - 0s - loss: 0.4294 - acc: 0.8100\n",
            "Epoch 102/150\n",
            " - 0s - loss: 0.4286 - acc: 0.8400\n",
            "Epoch 103/150\n",
            " - 0s - loss: 0.4270 - acc: 0.8500\n",
            "Epoch 104/150\n",
            " - 0s - loss: 0.4258 - acc: 0.8500\n",
            "Epoch 105/150\n",
            " - 0s - loss: 0.4246 - acc: 0.8500\n",
            "Epoch 106/150\n",
            " - 0s - loss: 0.4233 - acc: 0.8400\n",
            "Epoch 107/150\n",
            " - 0s - loss: 0.4222 - acc: 0.8400\n",
            "Epoch 108/150\n",
            " - 0s - loss: 0.4209 - acc: 0.8400\n",
            "Epoch 109/150\n",
            " - 0s - loss: 0.4197 - acc: 0.8400\n",
            "Epoch 110/150\n",
            " - 0s - loss: 0.4181 - acc: 0.8500\n",
            "Epoch 111/150\n",
            " - 0s - loss: 0.4168 - acc: 0.8500\n",
            "Epoch 112/150\n",
            " - 0s - loss: 0.4155 - acc: 0.8300\n",
            "Epoch 113/150\n",
            " - 0s - loss: 0.4153 - acc: 0.8000\n",
            "Epoch 114/150\n",
            " - 0s - loss: 0.4158 - acc: 0.7700\n",
            "Epoch 115/150\n",
            " - 0s - loss: 0.4150 - acc: 0.7600\n",
            "Epoch 116/150\n",
            " - 0s - loss: 0.4138 - acc: 0.7600\n",
            "Epoch 117/150\n",
            " - 0s - loss: 0.4130 - acc: 0.7600\n",
            "Epoch 118/150\n",
            " - 0s - loss: 0.4123 - acc: 0.7600\n",
            "Epoch 119/150\n",
            " - 0s - loss: 0.4113 - acc: 0.7600\n",
            "Epoch 120/150\n",
            " - 0s - loss: 0.4102 - acc: 0.7600\n",
            "Epoch 121/150\n",
            " - 0s - loss: 0.4082 - acc: 0.7800\n",
            "Epoch 122/150\n",
            " - 0s - loss: 0.4061 - acc: 0.8100\n",
            "Epoch 123/150\n",
            " - 0s - loss: 0.4040 - acc: 0.8300\n",
            "Epoch 124/150\n",
            " - 0s - loss: 0.4016 - acc: 0.8500\n",
            "Epoch 125/150\n",
            " - 0s - loss: 0.4010 - acc: 0.8700\n",
            "Epoch 126/150\n",
            " - 0s - loss: 0.4002 - acc: 0.8800\n",
            "Epoch 127/150\n",
            " - 0s - loss: 0.3990 - acc: 0.8800\n",
            "Epoch 128/150\n",
            " - 0s - loss: 0.3981 - acc: 0.8800\n",
            "Epoch 129/150\n",
            " - 0s - loss: 0.3969 - acc: 0.8800\n",
            "Epoch 130/150\n",
            " - 0s - loss: 0.3958 - acc: 0.8800\n",
            "Epoch 131/150\n",
            " - 0s - loss: 0.3945 - acc: 0.8800\n",
            "Epoch 132/150\n",
            " - 0s - loss: 0.3937 - acc: 0.8700\n",
            "Epoch 133/150\n",
            " - 0s - loss: 0.3924 - acc: 0.8700\n",
            "Epoch 134/150\n",
            " - 0s - loss: 0.3914 - acc: 0.8900\n",
            "Epoch 135/150\n",
            " - 0s - loss: 0.3909 - acc: 0.8900\n",
            "Epoch 136/150\n",
            " - 0s - loss: 0.3896 - acc: 0.9000\n",
            "Epoch 137/150\n",
            " - 0s - loss: 0.3883 - acc: 0.8800\n",
            "Epoch 138/150\n",
            " - 0s - loss: 0.3874 - acc: 0.8800\n",
            "Epoch 139/150\n",
            " - 0s - loss: 0.3861 - acc: 0.8800\n",
            "Epoch 140/150\n",
            " - 0s - loss: 0.3852 - acc: 0.8800\n",
            "Epoch 141/150\n",
            " - 0s - loss: 0.3842 - acc: 0.9000\n",
            "Epoch 142/150\n",
            " - 0s - loss: 0.3832 - acc: 0.8900\n",
            "Epoch 143/150\n",
            " - 0s - loss: 0.3819 - acc: 0.8900\n",
            "Epoch 144/150\n",
            " - 0s - loss: 0.3812 - acc: 0.8900\n",
            "Epoch 145/150\n",
            " - 0s - loss: 0.3797 - acc: 0.8900\n",
            "Epoch 146/150\n",
            " - 0s - loss: 0.3789 - acc: 0.8900\n",
            "Epoch 147/150\n",
            " - 0s - loss: 0.3770 - acc: 0.9000\n",
            "Epoch 148/150\n",
            " - 0s - loss: 0.3761 - acc: 0.9000\n",
            "Epoch 149/150\n",
            " - 0s - loss: 0.3746 - acc: 0.9000\n",
            "Epoch 150/150\n",
            " - 0s - loss: 0.3738 - acc: 0.9000\n"
          ],
          "name": "stdout"
        },
        {
          "output_type": "execute_result",
          "data": {
            "text/plain": [
              "<keras.callbacks.History at 0x7f7224c665f8>"
            ]
          },
          "metadata": {
            "tags": []
          },
          "execution_count": 32
        }
      ]
    },
    {
      "cell_type": "code",
      "metadata": {
        "id": "m-G6ph-aii1x",
        "colab_type": "code",
        "colab": {
          "base_uri": "https://localhost:8080/",
          "height": 887
        },
        "outputId": "7e364845-2880-4bfd-eeb0-dde5f66b4da3"
      },
      "source": [
        "model.predict(scaled_x_test)"
      ],
      "execution_count": 33,
      "outputs": [
        {
          "output_type": "execute_result",
          "data": {
            "text/plain": [
              "array([[2.3696225e-03, 4.8627877e-01, 5.1135159e-01],\n",
              "       [9.9616134e-01, 3.2591445e-03, 5.7950569e-04],\n",
              "       [2.9950074e-06, 1.5729626e-01, 8.4270072e-01],\n",
              "       [2.8097059e-03, 5.1697260e-01, 4.8021778e-01],\n",
              "       [5.3645583e-04, 3.9494267e-01, 6.0452092e-01],\n",
              "       [9.9314708e-01, 5.7919039e-03, 1.0610635e-03],\n",
              "       [1.8566156e-02, 6.4458448e-01, 3.3684939e-01],\n",
              "       [1.5853583e-04, 3.5593262e-01, 6.4390886e-01],\n",
              "       [7.8113057e-04, 4.0476784e-01, 5.9445095e-01],\n",
              "       [8.5002873e-03, 5.8212650e-01, 4.0937319e-01],\n",
              "       [5.0526916e-04, 4.2164671e-01, 5.7784808e-01],\n",
              "       [9.9195248e-01, 6.6650575e-03, 1.3825190e-03],\n",
              "       [9.9675888e-01, 2.7495723e-03, 4.9152196e-04],\n",
              "       [9.9277014e-01, 6.0100183e-03, 1.2198378e-03],\n",
              "       [9.9788254e-01, 1.7939656e-03, 3.2343174e-04],\n",
              "       [2.1009957e-03, 5.1365095e-01, 4.8424804e-01],\n",
              "       [1.2349128e-04, 3.2205492e-01, 6.7782158e-01],\n",
              "       [1.0011322e-02, 5.8045781e-01, 4.0953088e-01],\n",
              "       [4.9839634e-03, 5.4323220e-01, 4.5178378e-01],\n",
              "       [1.4062495e-04, 3.2600471e-01, 6.7385465e-01],\n",
              "       [9.9318719e-01, 5.6642522e-03, 1.1485830e-03],\n",
              "       [1.1830071e-03, 4.6618477e-01, 5.3263229e-01],\n",
              "       [9.9425548e-01, 4.8476574e-03, 8.9684525e-04],\n",
              "       [1.5916863e-04, 3.2995000e-01, 6.6989082e-01],\n",
              "       [2.2919652e-05, 2.4503756e-01, 7.5493944e-01],\n",
              "       [1.6803475e-04, 3.5389537e-01, 6.4593661e-01],\n",
              "       [6.9975365e-05, 2.6422679e-01, 7.3570323e-01],\n",
              "       [7.8145044e-05, 3.0478200e-01, 6.9513988e-01],\n",
              "       [9.9022722e-01, 8.1442837e-03, 1.6285359e-03],\n",
              "       [9.9147695e-01, 7.0921746e-03, 1.4308420e-03],\n",
              "       [9.9779934e-01, 1.8580847e-03, 3.4256183e-04],\n",
              "       [9.9926025e-01, 6.3993310e-04, 9.9862758e-05],\n",
              "       [1.5579147e-03, 4.8437899e-01, 5.1406312e-01],\n",
              "       [9.9541414e-01, 3.8318995e-03, 7.5393112e-04],\n",
              "       [9.9427795e-01, 4.7610938e-03, 9.6095278e-04],\n",
              "       [3.3300329e-04, 3.6720446e-01, 6.3246250e-01],\n",
              "       [2.2481685e-03, 5.1455247e-01, 4.8319942e-01],\n",
              "       [9.9635255e-01, 3.0764143e-03, 5.7106110e-04],\n",
              "       [9.9728382e-01, 2.2881909e-03, 4.2800719e-04],\n",
              "       [9.9891627e-01, 9.2484389e-04, 1.5880339e-04],\n",
              "       [8.7527750e-04, 4.3378988e-01, 5.6533486e-01],\n",
              "       [4.8356308e-03, 5.7702643e-01, 4.1813794e-01],\n",
              "       [9.5894263e-04, 4.4966975e-01, 5.4937124e-01],\n",
              "       [9.9831498e-01, 1.4412531e-03, 2.4374157e-04],\n",
              "       [9.9751318e-01, 2.1110093e-03, 3.7573531e-04],\n",
              "       [1.4493245e-02, 5.9898394e-01, 3.8652280e-01],\n",
              "       [7.3405751e-04, 4.1230735e-01, 5.8695853e-01],\n",
              "       [4.0142084e-04, 3.8832971e-01, 6.1126888e-01],\n",
              "       [1.5922830e-03, 4.8172110e-01, 5.1668656e-01],\n",
              "       [4.3520573e-05, 2.8905696e-01, 7.1089953e-01]], dtype=float32)"
            ]
          },
          "metadata": {
            "tags": []
          },
          "execution_count": 33
        }
      ]
    },
    {
      "cell_type": "code",
      "metadata": {
        "id": "PhP2xV4oi0Js",
        "colab_type": "code",
        "colab": {
          "base_uri": "https://localhost:8080/",
          "height": 88
        },
        "outputId": "5ad18d16-bd92-48ca-ebb1-960bef339c97"
      },
      "source": [
        "model.predict_classes(scaled_x_test)"
      ],
      "execution_count": 34,
      "outputs": [
        {
          "output_type": "execute_result",
          "data": {
            "text/plain": [
              "array([2, 0, 2, 1, 2, 0, 1, 2, 2, 1, 2, 0, 0, 0, 0, 1, 2, 1, 1, 2, 0, 2,\n",
              "       0, 2, 2, 2, 2, 2, 0, 0, 0, 0, 2, 0, 0, 2, 1, 0, 0, 0, 2, 1, 2, 0,\n",
              "       0, 1, 2, 2, 2, 2])"
            ]
          },
          "metadata": {
            "tags": []
          },
          "execution_count": 34
        }
      ]
    },
    {
      "cell_type": "code",
      "metadata": {
        "id": "bSGnZORVi3Ax",
        "colab_type": "code",
        "colab": {}
      },
      "source": [
        "prediction =model.predict_classes(scaled_x_test)"
      ],
      "execution_count": 0,
      "outputs": []
    },
    {
      "cell_type": "code",
      "metadata": {
        "id": "R690MM1Mi-Ws",
        "colab_type": "code",
        "colab": {
          "base_uri": "https://localhost:8080/",
          "height": 88
        },
        "outputId": "97e40a97-3fb5-424a-e699-92b0c532c5a9"
      },
      "source": [
        "y_test.argmax(axis=1)"
      ],
      "execution_count": 36,
      "outputs": [
        {
          "output_type": "execute_result",
          "data": {
            "text/plain": [
              "array([1, 0, 2, 1, 1, 0, 1, 2, 1, 1, 2, 0, 0, 0, 0, 1, 2, 1, 1, 2, 0, 2,\n",
              "       0, 2, 2, 2, 2, 2, 0, 0, 0, 0, 1, 0, 0, 2, 1, 0, 0, 0, 2, 1, 1, 0,\n",
              "       0, 1, 2, 2, 1, 2])"
            ]
          },
          "metadata": {
            "tags": []
          },
          "execution_count": 36
        }
      ]
    },
    {
      "cell_type": "code",
      "metadata": {
        "id": "iCniMs_kjAue",
        "colab_type": "code",
        "colab": {}
      },
      "source": [
        "from sklearn.metrics import confusion_matrix,classification_report"
      ],
      "execution_count": 0,
      "outputs": []
    },
    {
      "cell_type": "code",
      "metadata": {
        "id": "PchszmXyjL6R",
        "colab_type": "code",
        "colab": {
          "base_uri": "https://localhost:8080/",
          "height": 68
        },
        "outputId": "ddb62c63-c39c-4d2c-f965-d82f6490898d"
      },
      "source": [
        "confusion_matrix(y_test.argmax(axis=1), prediction)"
      ],
      "execution_count": 38,
      "outputs": [
        {
          "output_type": "execute_result",
          "data": {
            "text/plain": [
              "array([[19,  0,  0],\n",
              "       [ 0,  9,  6],\n",
              "       [ 0,  0, 16]])"
            ]
          },
          "metadata": {
            "tags": []
          },
          "execution_count": 38
        }
      ]
    },
    {
      "cell_type": "code",
      "metadata": {
        "id": "UWOibX1-jRGC",
        "colab_type": "code",
        "colab": {
          "base_uri": "https://localhost:8080/",
          "height": 187
        },
        "outputId": "64175b9d-cf15-4aad-c712-3aca5dbb67e2"
      },
      "source": [
        "print(classification_report(y_test.argmax(axis=1), prediction))"
      ],
      "execution_count": 39,
      "outputs": [
        {
          "output_type": "stream",
          "text": [
            "              precision    recall  f1-score   support\n",
            "\n",
            "           0       1.00      1.00      1.00        19\n",
            "           1       1.00      0.60      0.75        15\n",
            "           2       0.73      1.00      0.84        16\n",
            "\n",
            "    accuracy                           0.88        50\n",
            "   macro avg       0.91      0.87      0.86        50\n",
            "weighted avg       0.91      0.88      0.87        50\n",
            "\n"
          ],
          "name": "stdout"
        }
      ]
    },
    {
      "cell_type": "code",
      "metadata": {
        "id": "_51f5277jVIm",
        "colab_type": "code",
        "colab": {}
      },
      "source": [
        "model.save('myfirstmodel.h5')"
      ],
      "execution_count": 0,
      "outputs": []
    },
    {
      "cell_type": "code",
      "metadata": {
        "id": "Ve9FvdLNjZ3l",
        "colab_type": "code",
        "colab": {}
      },
      "source": [
        "from keras.models import load_model"
      ],
      "execution_count": 0,
      "outputs": []
    },
    {
      "cell_type": "code",
      "metadata": {
        "id": "oT2of0yQjgSi",
        "colab_type": "code",
        "colab": {}
      },
      "source": [
        "new_model =load_model('myfirstmodel.h5')"
      ],
      "execution_count": 0,
      "outputs": []
    },
    {
      "cell_type": "code",
      "metadata": {
        "id": "3-cSNDksjjgy",
        "colab_type": "code",
        "colab": {
          "base_uri": "https://localhost:8080/",
          "height": 88
        },
        "outputId": "b175c78d-3c83-445b-97cd-1fedac9bd3bb"
      },
      "source": [
        "new_model.predict_classes(scaled_x_test)"
      ],
      "execution_count": 43,
      "outputs": [
        {
          "output_type": "execute_result",
          "data": {
            "text/plain": [
              "array([2, 0, 2, 1, 2, 0, 1, 2, 2, 1, 2, 0, 0, 0, 0, 1, 2, 1, 1, 2, 0, 2,\n",
              "       0, 2, 2, 2, 2, 2, 0, 0, 0, 0, 2, 0, 0, 2, 1, 0, 0, 0, 2, 1, 2, 0,\n",
              "       0, 1, 2, 2, 2, 2])"
            ]
          },
          "metadata": {
            "tags": []
          },
          "execution_count": 43
        }
      ]
    },
    {
      "cell_type": "code",
      "metadata": {
        "id": "INslp4Mzjnlg",
        "colab_type": "code",
        "colab": {}
      },
      "source": [
        ""
      ],
      "execution_count": 0,
      "outputs": []
    }
  ]
}