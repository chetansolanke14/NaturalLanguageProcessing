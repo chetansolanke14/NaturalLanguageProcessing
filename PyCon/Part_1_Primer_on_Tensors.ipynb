{
  "nbformat": 4,
  "nbformat_minor": 0,
  "metadata": {
    "colab": {
      "name": "Part 1 - Primer on Tensors",
      "version": "0.3.2",
      "provenance": [],
      "include_colab_link": true
    },
    "kernelspec": {
      "name": "python3",
      "display_name": "Python 3"
    },
    "accelerator": "GPU"
  },
  "cells": [
    {
      "cell_type": "markdown",
      "metadata": {
        "id": "view-in-github",
        "colab_type": "text"
      },
      "source": [
        "<a href=\"https://colab.research.google.com/github/chetansolanke14/NaturalLanguageProcessing/blob/master/PyCon/Part_1_Primer_on_Tensors.ipynb\" target=\"_parent\"><img src=\"https://colab.research.google.com/assets/colab-badge.svg\" alt=\"Open In Colab\"/></a>"
      ]
    },
    {
      "cell_type": "markdown",
      "metadata": {
        "id": "CGHqGiwMcP1c",
        "colab_type": "text"
      },
      "source": [
        "## Part 1 - Primer on Tensors for Deep Learning using PyTorch\n",
        "\n",
        "**Required Time: 20 minutes**\n",
        "\n",
        "In this notebook, we will cover the basic tensor operations which are useful when implementing and training deep learning models. This guide should provide you with enough background on some of the most important tensor operations and computations used in deep learning and machine learning. This will form the foundation for implementing your NLP models. The focus of this notebook will be on use of PyTorch's high-level APIs, but it will provide insights and concise details where necessary to help the reader. \n",
        "\n",
        "\n",
        "After completing this guide, and with enough practise, the learner should feel comfortable with basic tensor creation/manipulation, and composing a pipeline of tensor operations, which will become useful when implimenting deep learning models with PyTorch.\n",
        "\n",
        "---"
      ]
    },
    {
      "cell_type": "markdown",
      "metadata": {
        "id": "F6N6q4aFfz7d",
        "colab_type": "text"
      },
      "source": [
        "### Journey\n",
        "- What is a tensor?\n",
        "- Building Tensors\n",
        "- Special Tensors\n",
        "- Tensor Properties\n",
        "- Tensor Slicing\n",
        "- Tensor operations and transformations\n",
        "- Cuda Tensors\n",
        "- Pipeline of Tensor Operations"
      ]
    },
    {
      "cell_type": "markdown",
      "metadata": {
        "id": "BNtf0dChg17G",
        "colab_type": "text"
      },
      "source": [
        "### What is a Tensor?\n",
        "In different fields and studies, tensors mean completely different things. In the deep learning world, tensors are just high-dimensional data structures which allow for efficient storage and operations. Why are they important? Well, when we are dealing with different kinds of data, such as text and images, we need to *numericalize* (convert to numbers) the data. This means our data will eventually need to be converted into numerical format using some conversion technique. That's not important here. The important part is that tensors store data and we need to learn some properties and chacteristics of them before understanding their use and applicability. "
      ]
    },
    {
      "cell_type": "code",
      "metadata": {
        "id": "_qw-tbPDfrhO",
        "colab_type": "code",
        "colab": {}
      },
      "source": [
        "# Let's important pytorch -- the main PyTorch library;\n",
        "# already installed for us on the Colab environment\n",
        "import torch"
      ],
      "execution_count": 0,
      "outputs": []
    },
    {
      "cell_type": "markdown",
      "metadata": {
        "id": "Bxj_hpLaqhTJ",
        "colab_type": "text"
      },
      "source": [
        "### Building Tensors\n",
        "In deep learning, we are mostly dealing with Tensors. Therefore, it's important to understand different concepts about tensors, such as types, size, special tensors, etc. Let's briefly review a few concepts related to building tensors. Pay close attention to the comments.  "
      ]
    },
    {
      "cell_type": "code",
      "metadata": {
        "id": "sibtlo7O0F_a",
        "colab_type": "code",
        "outputId": "5b532dad-1e3a-4fa2-e22f-b3144d4fc8e0",
        "colab": {
          "base_uri": "https://localhost:8080/",
          "height": 34
        }
      },
      "source": [
        "# a scalar\n",
        "A = torch.tensor(1)\n",
        "print(A)"
      ],
      "execution_count": 2,
      "outputs": [
        {
          "output_type": "stream",
          "text": [
            "tensor(1)\n"
          ],
          "name": "stdout"
        }
      ]
    },
    {
      "cell_type": "code",
      "metadata": {
        "id": "DJtujitg1aW4",
        "colab_type": "code",
        "outputId": "15037981-ed2d-4d89-b740-f8ab514ff6bd",
        "colab": {
          "base_uri": "https://localhost:8080/",
          "height": 34
        }
      },
      "source": [
        "# a vector (1D tensor); 3-dimensional vector\n",
        "A = torch.tensor([1,2,3])\n",
        "print(A)"
      ],
      "execution_count": 3,
      "outputs": [
        {
          "output_type": "stream",
          "text": [
            "tensor([1, 2, 3])\n"
          ],
          "name": "stdout"
        }
      ]
    },
    {
      "cell_type": "code",
      "metadata": {
        "id": "EcligP_719GG",
        "colab_type": "code",
        "outputId": "0abe055b-5982-4efc-91d5-70406e82b041",
        "colab": {
          "base_uri": "https://localhost:8080/",
          "height": 51
        }
      },
      "source": [
        "# a matrix (2D tensor)\n",
        "A = torch.tensor([[1, 2, 3, 4],\n",
        "                  [5, 6, 7, 8]])\n",
        "\n",
        "print(A)"
      ],
      "execution_count": 4,
      "outputs": [
        {
          "output_type": "stream",
          "text": [
            "tensor([[1, 2, 3, 4],\n",
            "        [5, 6, 7, 8]])\n"
          ],
          "name": "stdout"
        }
      ]
    },
    {
      "cell_type": "code",
      "metadata": {
        "id": "DCpmGUcF7x1P",
        "colab_type": "code",
        "outputId": "08f05b2c-1314-49cf-deb6-82e09a4ddc64",
        "colab": {
          "base_uri": "https://localhost:8080/",
          "height": 119
        }
      },
      "source": [
        "# a matrix (3D tensor)\n",
        "A = torch.tensor([[[1, 2, 3, 4],\n",
        "                  [5, 6, 7, 8]],\n",
        "                  [[1, 2, 3, 4],\n",
        "                  [5, 6, 7, 8]],\n",
        "                 ])\n",
        "print(A)\n",
        "print(A.size())"
      ],
      "execution_count": 6,
      "outputs": [
        {
          "output_type": "stream",
          "text": [
            "tensor([[[1, 2, 3, 4],\n",
            "         [5, 6, 7, 8]],\n",
            "\n",
            "        [[1, 2, 3, 4],\n",
            "         [5, 6, 7, 8]]])\n",
            "torch.Size([2, 2, 4])\n"
          ],
          "name": "stdout"
        }
      ]
    },
    {
      "cell_type": "code",
      "metadata": {
        "id": "VkAWvrAL8dNs",
        "colab_type": "code",
        "outputId": "e855a269-1b9e-4e88-eda8-710e11ca4d29",
        "colab": {
          "base_uri": "https://localhost:8080/",
          "height": 34
        }
      },
      "source": [
        "# build tensor from a numpy array; useful for data transformations\n",
        "import numpy as np\n",
        "A = torch.tensor(np.random.rand(1, 3))\n",
        "print(A)"
      ],
      "execution_count": 7,
      "outputs": [
        {
          "output_type": "stream",
          "text": [
            "tensor([[0.3012, 0.9563, 0.4675]], dtype=torch.float64)\n"
          ],
          "name": "stdout"
        }
      ]
    },
    {
      "cell_type": "markdown",
      "metadata": {
        "id": "lCONgneoxmb0",
        "colab_type": "text"
      },
      "source": [
        "----\n",
        "\n",
        "### Exercise - Constructing Tensor\n",
        "\n",
        "Build a PyTorch tensor usiong a list from 1-10. Hint: use `range(...)`.\n",
        "\n",
        "----"
      ]
    },
    {
      "cell_type": "code",
      "metadata": {
        "id": "e_COGZijyR4i",
        "colab_type": "code",
        "colab": {
          "base_uri": "https://localhost:8080/",
          "height": 34
        },
        "outputId": "e258dfc4-931f-47ac-c60f-d348d9f10b5b"
      },
      "source": [
        "### YOUR CODE HERE\n",
        "t_one = torch.arange(10)\n",
        "t_one \n",
        "\n",
        "### YOUR CODE HERE"
      ],
      "execution_count": 8,
      "outputs": [
        {
          "output_type": "execute_result",
          "data": {
            "text/plain": [
              "tensor([0, 1, 2, 3, 4, 5, 6, 7, 8, 9])"
            ]
          },
          "metadata": {
            "tags": []
          },
          "execution_count": 8
        }
      ]
    },
    {
      "cell_type": "markdown",
      "metadata": {
        "id": "jQBzNWiL8hm4",
        "colab_type": "text"
      },
      "source": [
        "### Special Tensors\n",
        "\n",
        "We can also build special tensors such as all-zeros matrix, all-ones matrix, already offered by PyTorch."
      ]
    },
    {
      "cell_type": "code",
      "metadata": {
        "id": "zGS4eV4AAQ7r",
        "colab_type": "code",
        "outputId": "ea138e5a-f305-4491-f195-9201685ea297",
        "colab": {
          "base_uri": "https://localhost:8080/",
          "height": 102
        }
      },
      "source": [
        "# builing tensor with zeros\n",
        "A = torch.zeros(5, 4, dtype=torch.long)\n",
        "print(A)"
      ],
      "execution_count": 9,
      "outputs": [
        {
          "output_type": "stream",
          "text": [
            "tensor([[0, 0, 0, 0],\n",
            "        [0, 0, 0, 0],\n",
            "        [0, 0, 0, 0],\n",
            "        [0, 0, 0, 0],\n",
            "        [0, 0, 0, 0]])\n"
          ],
          "name": "stdout"
        }
      ]
    },
    {
      "cell_type": "code",
      "metadata": {
        "id": "H3GKEwLWloQI",
        "colab_type": "code",
        "outputId": "bfa2af5a-916f-4a4c-cd5f-9dbfc7f6dac3",
        "colab": {
          "base_uri": "https://localhost:8080/",
          "height": 102
        }
      },
      "source": [
        "# All-ones matrix\n",
        "A = torch.ones(5, 4)\n",
        "print(A)"
      ],
      "execution_count": 10,
      "outputs": [
        {
          "output_type": "stream",
          "text": [
            "tensor([[1., 1., 1., 1.],\n",
            "        [1., 1., 1., 1.],\n",
            "        [1., 1., 1., 1.],\n",
            "        [1., 1., 1., 1.],\n",
            "        [1., 1., 1., 1.]])\n"
          ],
          "name": "stdout"
        }
      ]
    },
    {
      "cell_type": "code",
      "metadata": {
        "id": "ncH6YoYJlyG-",
        "colab_type": "code",
        "outputId": "d74bac39-5c78-4c93-90a7-9d774670535e",
        "colab": {
          "base_uri": "https://localhost:8080/",
          "height": 105
        }
      },
      "source": [
        "# diagonal matrix\n",
        "A = torch.eye(5, 5)\n",
        "print(A)"
      ],
      "execution_count": 0,
      "outputs": [
        {
          "output_type": "stream",
          "text": [
            "tensor([[1., 0., 0., 0., 0.],\n",
            "        [0., 1., 0., 0., 0.],\n",
            "        [0., 0., 1., 0., 0.],\n",
            "        [0., 0., 0., 1., 0.],\n",
            "        [0., 0., 0., 0., 1.]])\n"
          ],
          "name": "stdout"
        }
      ]
    },
    {
      "cell_type": "code",
      "metadata": {
        "id": "t7bne3obAi4X",
        "colab_type": "code",
        "outputId": "53406b52-6f02-4377-ea35-7db553edf4b1",
        "colab": {
          "base_uri": "https://localhost:8080/",
          "height": 102
        }
      },
      "source": [
        "# building tensors with random information\n",
        "A = torch.rand(5, 4)\n",
        "print(A)"
      ],
      "execution_count": 11,
      "outputs": [
        {
          "output_type": "stream",
          "text": [
            "tensor([[0.4551, 0.7205, 0.3408, 0.2430],\n",
            "        [0.5307, 0.8433, 0.0154, 0.0263],\n",
            "        [0.1222, 0.9646, 0.4227, 0.8267],\n",
            "        [0.5815, 0.7425, 0.9272, 0.8151],\n",
            "        [0.1183, 0.6417, 0.0654, 0.3030]])\n"
          ],
          "name": "stdout"
        }
      ]
    },
    {
      "cell_type": "code",
      "metadata": {
        "id": "xnZRC1udy-lJ",
        "colab_type": "code",
        "outputId": "b149f4d9-6eb3-4a98-b795-aa80d27f8967",
        "colab": {
          "base_uri": "https://localhost:8080/",
          "height": 102
        }
      },
      "source": [
        "# like another tensor\n",
        "A = torch.rand(5, 4)\n",
        "\n",
        "B = torch.ones_like(A)\n",
        "print(B)"
      ],
      "execution_count": 12,
      "outputs": [
        {
          "output_type": "stream",
          "text": [
            "tensor([[1., 1., 1., 1.],\n",
            "        [1., 1., 1., 1.],\n",
            "        [1., 1., 1., 1.],\n",
            "        [1., 1., 1., 1.],\n",
            "        [1., 1., 1., 1.]])\n"
          ],
          "name": "stdout"
        }
      ]
    },
    {
      "cell_type": "code",
      "metadata": {
        "id": "GYQ2ZNa1kkz1",
        "colab_type": "code",
        "colab": {
          "base_uri": "https://localhost:8080/",
          "height": 85
        },
        "outputId": "704015a3-7259-4fb3-bbbf-be26dff84b95"
      },
      "source": [
        "A.transpose(1,0)"
      ],
      "execution_count": 15,
      "outputs": [
        {
          "output_type": "execute_result",
          "data": {
            "text/plain": [
              "tensor([[0.7074, 0.7591, 0.8129, 0.2389, 0.0654],\n",
              "        [0.3781, 0.8769, 0.8697, 0.6978, 0.2571],\n",
              "        [0.6448, 0.9344, 0.3392, 0.8108, 0.6333],\n",
              "        [0.3312, 0.1691, 0.1876, 0.7070, 0.1335]])"
            ]
          },
          "metadata": {
            "tags": []
          },
          "execution_count": 15
        }
      ]
    },
    {
      "cell_type": "code",
      "metadata": {
        "id": "4ntGiWZ0zaPR",
        "colab_type": "code",
        "outputId": "d8d2b13e-aa5d-4ecc-dc92-f65b828c00e8",
        "colab": {
          "base_uri": "https://localhost:8080/",
          "height": 34
        }
      },
      "source": [
        "# 1-dimensional ranges\n",
        "\n",
        "torch.linspace(3, 10, steps=5)"
      ],
      "execution_count": 13,
      "outputs": [
        {
          "output_type": "execute_result",
          "data": {
            "text/plain": [
              "tensor([ 3.0000,  4.7500,  6.5000,  8.2500, 10.0000])"
            ]
          },
          "metadata": {
            "tags": []
          },
          "execution_count": 13
        }
      ]
    },
    {
      "cell_type": "markdown",
      "metadata": {
        "id": "KrwEaXtbz508",
        "colab_type": "text"
      },
      "source": [
        "----\n",
        "\n",
        "### Exercise - Constructing Tensor\n",
        "\n",
        "It's important to familiarize oneself with the [PyTorch documentation](https://pytorch.org/docs/stable/torch.html). To make this obvious, let try to construct a tensor tensor with the list of numbers from 1-10. There is an easy way: use `linspace(...)` shown above.\n",
        "\n",
        "----"
      ]
    },
    {
      "cell_type": "code",
      "metadata": {
        "id": "pVjwZln9zvWZ",
        "colab_type": "code",
        "colab": {}
      },
      "source": [
        "### YOUR CODE HERE\n",
        "t2 = \n",
        "\n",
        "### YOUR CODE HERE"
      ],
      "execution_count": 0,
      "outputs": []
    },
    {
      "cell_type": "markdown",
      "metadata": {
        "id": "0IEd6VCM1_li",
        "colab_type": "text"
      },
      "source": [
        "### Tensor Properties\n",
        "We can check different properties of the tensors we are building. These special functions are helpful to observe the properties of the tensor data structure we are operating on."
      ]
    },
    {
      "cell_type": "code",
      "metadata": {
        "id": "Tnica0Q_2VCC",
        "colab_type": "code",
        "outputId": "ab0784c3-e481-444e-f58b-07c8f6e4ad50",
        "colab": {
          "base_uri": "https://localhost:8080/",
          "height": 35
        }
      },
      "source": [
        "# type\n",
        "A = torch.randn(size = (2,3), dtype = torch.float32)\n",
        "print(A.type())"
      ],
      "execution_count": 0,
      "outputs": [
        {
          "output_type": "stream",
          "text": [
            "torch.FloatTensor\n"
          ],
          "name": "stdout"
        }
      ]
    },
    {
      "cell_type": "code",
      "metadata": {
        "id": "IsKdV-kF5D4x",
        "colab_type": "code",
        "outputId": "4f343b12-a93b-4739-b9f7-f98f28238fd6",
        "colab": {
          "base_uri": "https://localhost:8080/",
          "height": 35
        }
      },
      "source": [
        "# size and view and their difference\n",
        "A = torch.eye(4,5)\n",
        "A.size()"
      ],
      "execution_count": 0,
      "outputs": [
        {
          "output_type": "execute_result",
          "data": {
            "text/plain": [
              "torch.Size([4, 5])"
            ]
          },
          "metadata": {
            "tags": []
          },
          "execution_count": 16
        }
      ]
    },
    {
      "cell_type": "markdown",
      "metadata": {
        "id": "Lq7_ZXdt7D0M",
        "colab_type": "text"
      },
      "source": [
        "The best way to learn and memorize all these properties is to go into the documentation and practice as much as you can. "
      ]
    },
    {
      "cell_type": "markdown",
      "metadata": {
        "id": "LAc0YMrIn-ya",
        "colab_type": "text"
      },
      "source": [
        "### Tensor Slicing\n",
        "Understanding how to query and slice tensors."
      ]
    },
    {
      "cell_type": "code",
      "metadata": {
        "id": "VLS-s-VdoEtX",
        "colab_type": "code",
        "outputId": "48116ab7-1523-411c-f368-3639081ba3f0",
        "colab": {
          "base_uri": "https://localhost:8080/",
          "height": 246
        }
      },
      "source": [
        "A =  torch.eye(5, 5)\n",
        "\n",
        "print(A[3:]) # specific row, all columns\n",
        "print(\"\\n\")\n",
        "print(A[: 3]) # slice of rows, all columns\n",
        "print(\"\\n\")\n",
        "print(A[: -1]) # from first row to second to last row"
      ],
      "execution_count": 0,
      "outputs": [
        {
          "output_type": "stream",
          "text": [
            "tensor([[0., 0., 0., 1., 0.],\n",
            "        [0., 0., 0., 0., 1.]])\n",
            "\n",
            "\n",
            "tensor([[1., 0., 0., 0., 0.],\n",
            "        [0., 1., 0., 0., 0.],\n",
            "        [0., 0., 1., 0., 0.]])\n",
            "\n",
            "\n",
            "tensor([[1., 0., 0., 0., 0.],\n",
            "        [0., 1., 0., 0., 0.],\n",
            "        [0., 0., 1., 0., 0.],\n",
            "        [0., 0., 0., 1., 0.]])\n"
          ],
          "name": "stdout"
        }
      ]
    },
    {
      "cell_type": "markdown",
      "metadata": {
        "id": "dEBUDH_62Xgg",
        "colab_type": "text"
      },
      "source": [
        "### Tensor Operations and Transformations\n",
        "\n",
        "Times, \n",
        "element-wise multiplication,\n",
        "to.tensor() etc..."
      ]
    },
    {
      "cell_type": "code",
      "metadata": {
        "id": "5Ytohwa5xBrX",
        "colab_type": "code",
        "outputId": "96cfb828-ef0d-4d70-93bf-06b17d98d770",
        "colab": {
          "base_uri": "https://localhost:8080/",
          "height": 102
        }
      },
      "source": [
        "# modify tensor content\n",
        "A = torch.ones(5, 4)\n",
        "\n",
        "A[:2] = 0\n",
        "print(A)"
      ],
      "execution_count": 16,
      "outputs": [
        {
          "output_type": "stream",
          "text": [
            "tensor([[0., 0., 0., 0.],\n",
            "        [0., 0., 0., 0.],\n",
            "        [1., 1., 1., 1.],\n",
            "        [1., 1., 1., 1.],\n",
            "        [1., 1., 1., 1.]])\n"
          ],
          "name": "stdout"
        }
      ]
    },
    {
      "cell_type": "code",
      "metadata": {
        "id": "-Jy3-k2s8DbI",
        "colab_type": "code",
        "outputId": "5d709f71-f138-4e09-d649-cc8544a1497c",
        "colab": {
          "base_uri": "https://localhost:8080/",
          "height": 85
        }
      },
      "source": [
        "# transpose\n",
        "A.transpose(1,0)"
      ],
      "execution_count": 17,
      "outputs": [
        {
          "output_type": "execute_result",
          "data": {
            "text/plain": [
              "tensor([[0., 0., 1., 1., 1.],\n",
              "        [0., 0., 1., 1., 1.],\n",
              "        [0., 0., 1., 1., 1.],\n",
              "        [0., 0., 1., 1., 1.]])"
            ]
          },
          "metadata": {
            "tags": []
          },
          "execution_count": 17
        }
      ]
    },
    {
      "cell_type": "markdown",
      "metadata": {
        "id": "R-EzCcbY8zGd",
        "colab_type": "text"
      },
      "source": [
        "What happens if we print A again, woud it be transposed?"
      ]
    },
    {
      "cell_type": "code",
      "metadata": {
        "id": "L_cSLrSY85Tr",
        "colab_type": "code",
        "outputId": "509c561c-fe86-40e1-e00d-02b4fb922afd",
        "colab": {
          "base_uri": "https://localhost:8080/",
          "height": 102
        }
      },
      "source": [
        "print(A)"
      ],
      "execution_count": 18,
      "outputs": [
        {
          "output_type": "stream",
          "text": [
            "tensor([[0., 0., 0., 0.],\n",
            "        [0., 0., 0., 0.],\n",
            "        [1., 1., 1., 1.],\n",
            "        [1., 1., 1., 1.],\n",
            "        [1., 1., 1., 1.]])\n"
          ],
          "name": "stdout"
        }
      ]
    },
    {
      "cell_type": "markdown",
      "metadata": {
        "id": "9qQRc5CI89f-",
        "colab_type": "text"
      },
      "source": [
        "Apparently not! There is a quick fix to make transformations and operations in place. Use \"`_`\" after the method."
      ]
    },
    {
      "cell_type": "code",
      "metadata": {
        "id": "qmlPNpXX9NW0",
        "colab_type": "code",
        "outputId": "032c60d6-4462-4009-dec0-bb8519a087ff",
        "colab": {
          "base_uri": "https://localhost:8080/",
          "height": 85
        }
      },
      "source": [
        "A.transpose_(1, 0)\n",
        "print(A)"
      ],
      "execution_count": 19,
      "outputs": [
        {
          "output_type": "stream",
          "text": [
            "tensor([[0., 0., 1., 1., 1.],\n",
            "        [0., 0., 1., 1., 1.],\n",
            "        [0., 0., 1., 1., 1.],\n",
            "        [0., 0., 1., 1., 1.]])\n"
          ],
          "name": "stdout"
        }
      ]
    },
    {
      "cell_type": "markdown",
      "metadata": {
        "id": "HCHd0Dmn9Uhx",
        "colab_type": "text"
      },
      "source": [
        "Let's do some simple math..."
      ]
    },
    {
      "cell_type": "code",
      "metadata": {
        "id": "VBlyBt-b34Z2",
        "colab_type": "code",
        "outputId": "595037f3-3e25-424a-e380-08c1a19a73c9",
        "colab": {
          "base_uri": "https://localhost:8080/",
          "height": 272
        }
      },
      "source": [
        "# addition\n",
        "A = torch.ones(5, 3)\n",
        "B = torch.ones(5, 3)\n",
        "print(A + B)\n",
        "\n",
        "# addition in place\n",
        "print(torch.add(A, B))\n",
        "\n",
        "# addition in place; uses symbol \"_\"\n",
        "A.add_(B)"
      ],
      "execution_count": 20,
      "outputs": [
        {
          "output_type": "stream",
          "text": [
            "tensor([[2., 2., 2.],\n",
            "        [2., 2., 2.],\n",
            "        [2., 2., 2.],\n",
            "        [2., 2., 2.],\n",
            "        [2., 2., 2.]])\n",
            "tensor([[2., 2., 2.],\n",
            "        [2., 2., 2.],\n",
            "        [2., 2., 2.],\n",
            "        [2., 2., 2.],\n",
            "        [2., 2., 2.]])\n"
          ],
          "name": "stdout"
        },
        {
          "output_type": "execute_result",
          "data": {
            "text/plain": [
              "tensor([[2., 2., 2.],\n",
              "        [2., 2., 2.],\n",
              "        [2., 2., 2.],\n",
              "        [2., 2., 2.],\n",
              "        [2., 2., 2.]])"
            ]
          },
          "metadata": {
            "tags": []
          },
          "execution_count": 20
        }
      ]
    },
    {
      "cell_type": "code",
      "metadata": {
        "id": "oyF3al0glGjB",
        "colab_type": "code",
        "outputId": "fedcd4c7-c075-43d1-e6a5-35f310f680d5",
        "colab": {
          "base_uri": "https://localhost:8080/",
          "height": 35
        }
      },
      "source": [
        "# power and sum\n",
        "A =  torch.tensor([1.0, 2.0])\n",
        "out = A.pow(2).sum()\n",
        "print(out)"
      ],
      "execution_count": 0,
      "outputs": [
        {
          "output_type": "stream",
          "text": [
            "tensor(5.)\n"
          ],
          "name": "stdout"
        }
      ]
    },
    {
      "cell_type": "code",
      "metadata": {
        "id": "WSFRAPgJA6ZA",
        "colab_type": "code",
        "outputId": "e4638c1b-41c3-4282-d79c-968cefb16b1c",
        "colab": {
          "base_uri": "https://localhost:8080/",
          "height": 102
        }
      },
      "source": [
        "# element-wise multiplication\n",
        "\n",
        "A = torch.eye(5, 5)\n",
        "B = torch.ones(5, 5)\n",
        "\n",
        "print(A * B)"
      ],
      "execution_count": 21,
      "outputs": [
        {
          "output_type": "stream",
          "text": [
            "tensor([[1., 0., 0., 0., 0.],\n",
            "        [0., 1., 0., 0., 0.],\n",
            "        [0., 0., 1., 0., 0.],\n",
            "        [0., 0., 0., 1., 0.],\n",
            "        [0., 0., 0., 0., 1.]])\n"
          ],
          "name": "stdout"
        }
      ]
    },
    {
      "cell_type": "markdown",
      "metadata": {
        "id": "QmY8ebff96Ts",
        "colab_type": "text"
      },
      "source": [
        "---\n",
        "\n",
        "### EXERCISE - Tensor Operations and Transformations\n",
        "\n",
        "Generate this matrix (Hint: `torch.rot90()`):\n",
        "\n",
        "```python\n",
        "\n",
        "tensor([[0., 0., 0., 0., 1.],\n",
        "        [0., 0., 0., 1., 0.],\n",
        "        [0., 0., 1., 0., 0.],\n",
        "        [0., 1., 0., 0., 0.],\n",
        "        [1., 0., 0., 0., 0.]])\n",
        "```\n",
        "\n",
        "----\n",
        "\n",
        "\n"
      ]
    },
    {
      "cell_type": "code",
      "metadata": {
        "id": "cmOD9YmsBYHm",
        "colab_type": "code",
        "colab": {}
      },
      "source": [
        "A = torch.eye(5, 5)\n",
        "B = torch.ones(5, 5)\n",
        "C = A * B\n",
        "\n",
        "### YOUR CODE HERE\n",
        "\n",
        "\n",
        "### YOUR CODE HERE"
      ],
      "execution_count": 0,
      "outputs": []
    },
    {
      "cell_type": "markdown",
      "metadata": {
        "id": "resZM-38ozaY",
        "colab_type": "text"
      },
      "source": [
        "### Cuda Tensors\n",
        "PyTorch provides the option to easily manipulate tensors in addition to moving them from gpu and cpu, which allows for ease of training and controlling which parts should be commited to the gpu or the cpu. This gives the control/flexibility to the programmer to design the models for different scenarios with different compute resources."
      ]
    },
    {
      "cell_type": "code",
      "metadata": {
        "id": "o1wgOhdDqIGw",
        "colab_type": "code",
        "outputId": "7e60dc0f-395b-416e-9ebc-14ff15a1d758",
        "colab": {
          "base_uri": "https://localhost:8080/",
          "height": 187
        }
      },
      "source": [
        "# check if cuda is available in your computer\n",
        "print(\"---------------------------------------------------\")\n",
        "print(\"Cuda status:\", torch.cuda.is_available())\n",
        "\n",
        "device_0 = torch.device(\"cuda\")\n",
        "device_1 = torch.device(\"cpu\")\n",
        "\n",
        "print(\"---------------------------------------------------\")\n",
        "\n",
        "x = torch.rand(2, 3)\n",
        "y = torch.ones_like(x, device=device_0)\n",
        "z = torch.zeros_like(x, device=device_1)\n",
        "print(\"Tensor y is stored in: \", y.device)\n",
        "print(y)\n",
        "print(\"---------------------------------------------------\")\n",
        "print(\"Tensor x is stored in: \", x.device)\n",
        "print(x)"
      ],
      "execution_count": 23,
      "outputs": [
        {
          "output_type": "stream",
          "text": [
            "---------------------------------------------------\n",
            "Cuda status: True\n",
            "---------------------------------------------------\n",
            "Tensor y is stored in:  cuda:0\n",
            "tensor([[1., 1., 1.],\n",
            "        [1., 1., 1.]], device='cuda:0')\n",
            "---------------------------------------------------\n",
            "Tensor x is stored in:  cpu\n",
            "tensor([[0.2012, 0.1956, 0.2248],\n",
            "        [0.2676, 0.0411, 0.9821]])\n"
          ],
          "name": "stdout"
        }
      ]
    },
    {
      "cell_type": "code",
      "metadata": {
        "id": "X4UIvD41D7y1",
        "colab_type": "code",
        "outputId": "3f6751ef-7dec-4ed4-9b24-0434f8447f55",
        "colab": {
          "base_uri": "https://localhost:8080/",
          "height": 51
        }
      },
      "source": [
        "# check if tensor stored in GPU\n",
        "\n",
        "print(y.is_cuda)\n",
        "print(x.is_cuda)"
      ],
      "execution_count": 25,
      "outputs": [
        {
          "output_type": "stream",
          "text": [
            "True\n",
            "False\n"
          ],
          "name": "stdout"
        }
      ]
    },
    {
      "cell_type": "markdown",
      "metadata": {
        "id": "OA9DBbSNEOZ6",
        "colab_type": "text"
      },
      "source": [
        "There are significant differences in execution time when dealing with huge tensors."
      ]
    },
    {
      "cell_type": "code",
      "metadata": {
        "id": "EIxsYV92wTXq",
        "colab_type": "code",
        "outputId": "ca1034a6-16a2-426f-d2f9-601192bd2e33",
        "colab": {
          "base_uri": "https://localhost:8080/",
          "height": 51
        }
      },
      "source": [
        "%%time\n",
        "a = torch.rand(1000, 1000)\n",
        "b = torch.rand(1000, 1000)\n",
        "\n",
        "a.matmul(b)"
      ],
      "execution_count": 26,
      "outputs": [
        {
          "output_type": "stream",
          "text": [
            "CPU times: user 44.1 ms, sys: 6.42 ms, total: 50.5 ms\n",
            "Wall time: 86.7 ms\n"
          ],
          "name": "stdout"
        }
      ]
    },
    {
      "cell_type": "code",
      "metadata": {
        "id": "hK1lt3Cbw18r",
        "colab_type": "code",
        "outputId": "ab99f9fa-6cb6-4c7a-c9bb-9bb5b1f51874",
        "colab": {
          "base_uri": "https://localhost:8080/",
          "height": 51
        }
      },
      "source": [
        "%%time\n",
        "a = torch.rand(1000, 1000).cuda()\n",
        "b = torch.rand(1000, 1000).cuda()\n",
        "\n",
        "a.matmul(b)"
      ],
      "execution_count": 27,
      "outputs": [
        {
          "output_type": "stream",
          "text": [
            "CPU times: user 18.7 ms, sys: 2.78 ms, total: 21.4 ms\n",
            "Wall time: 28.8 ms\n"
          ],
          "name": "stdout"
        }
      ]
    },
    {
      "cell_type": "markdown",
      "metadata": {
        "id": "jK0gyWt3A7IA",
        "colab_type": "text"
      },
      "source": [
        "### Pipeline of Tensor Operations\n",
        "With PyTorch everything is a chain of operations  and the high-level APIs offer all the necessary functionalities to achieve this. Below, we will explore a simple approach to chaining tensor operations. In other words, we are designing a graph or a flow of operations that are chained together, designed to output something. This is essential for training neural networks. This is why neural networks are sometimes called **computation graphs**, because they are simply a chain of operations."
      ]
    },
    {
      "cell_type": "code",
      "metadata": {
        "id": "igM7sZfpvPw2",
        "colab_type": "code",
        "colab": {}
      },
      "source": [
        "import torch.nn as nn\n",
        "\n",
        "class Chain(nn.Module):\n",
        "  def __init__(self, ):\n",
        "    super(Chain, self).__init__()\n",
        "    \n",
        "  def forward(self, x):\n",
        "    print(\"---------------------------------------------------\")\n",
        "    print(\"X:\")\n",
        "    print(x)\n",
        "    print(\"---------------------------------------------------\")\n",
        "    print(\"X powered by 2:\")\n",
        "    print(x.pow(2))\n",
        "    print(\"mean(X): \")\n",
        "    out = x.mean()\n",
        "    return out"
      ],
      "execution_count": 0,
      "outputs": []
    },
    {
      "cell_type": "code",
      "metadata": {
        "id": "tYWSp6yBv_HE",
        "colab_type": "code",
        "outputId": "8ed2d235-1ce1-48e8-b2a1-3268a7108856",
        "colab": {
          "base_uri": "https://localhost:8080/",
          "height": 292
        }
      },
      "source": [
        "x =  torch.rand((4,5), dtype=torch.float64)\n",
        "chain = Chain()\n",
        "mean_x = chain(x)\n",
        "print(mean_x)"
      ],
      "execution_count": 31,
      "outputs": [
        {
          "output_type": "stream",
          "text": [
            "---------------------------------------------------\n",
            "X:\n",
            "tensor([[0.7826, 0.2887, 0.0577, 0.1340, 0.1502],\n",
            "        [0.3397, 0.8208, 0.1329, 0.7181, 0.6642],\n",
            "        [0.2797, 0.0253, 0.8705, 0.1879, 0.4951],\n",
            "        [0.1978, 0.0564, 0.6224, 0.8381, 0.4185]], dtype=torch.float64)\n",
            "---------------------------------------------------\n",
            "X powered by 2:\n",
            "tensor([[6.1248e-01, 8.3355e-02, 3.3285e-03, 1.7945e-02, 2.2548e-02],\n",
            "        [1.1542e-01, 6.7365e-01, 1.7673e-02, 5.1574e-01, 4.4117e-01],\n",
            "        [7.8211e-02, 6.4259e-04, 7.5782e-01, 3.5313e-02, 2.4508e-01],\n",
            "        [3.9115e-02, 3.1815e-03, 3.8732e-01, 7.0241e-01, 1.7512e-01]],\n",
            "       dtype=torch.float64)\n",
            "mean(X): \n",
            "tensor(0.4040, dtype=torch.float64)\n"
          ],
          "name": "stdout"
        }
      ]
    },
    {
      "cell_type": "markdown",
      "metadata": {
        "id": "2Zs27euryhd4",
        "colab_type": "text"
      },
      "source": [
        "The benefit of the chainer or computation graph is that it can resused and different inputs can be fed into it."
      ]
    },
    {
      "cell_type": "code",
      "metadata": {
        "id": "0yxO9LJc0Ftw",
        "colab_type": "code",
        "outputId": "e3e86df1-5b60-4cc8-8a2e-32c0f6ce43f3",
        "colab": {
          "base_uri": "https://localhost:8080/",
          "height": 306
        }
      },
      "source": [
        "y = torch.eye(5,5)\n",
        "print(torch.mean(y))\n",
        "chain_2 = Chain()\n",
        "mean_y = chain_2(y)\n",
        "print(mean_y)"
      ],
      "execution_count": 32,
      "outputs": [
        {
          "output_type": "stream",
          "text": [
            "tensor(0.2000)\n",
            "---------------------------------------------------\n",
            "X:\n",
            "tensor([[1., 0., 0., 0., 0.],\n",
            "        [0., 1., 0., 0., 0.],\n",
            "        [0., 0., 1., 0., 0.],\n",
            "        [0., 0., 0., 1., 0.],\n",
            "        [0., 0., 0., 0., 1.]])\n",
            "---------------------------------------------------\n",
            "X powered by 2:\n",
            "tensor([[1., 0., 0., 0., 0.],\n",
            "        [0., 1., 0., 0., 0.],\n",
            "        [0., 0., 1., 0., 0.],\n",
            "        [0., 0., 0., 1., 0.],\n",
            "        [0., 0., 0., 0., 1.]])\n",
            "mean(X): \n",
            "tensor(0.2000)\n"
          ],
          "name": "stdout"
        }
      ]
    },
    {
      "cell_type": "markdown",
      "metadata": {
        "id": "mH86fmXtVx7p",
        "colab_type": "text"
      },
      "source": [
        "---"
      ]
    },
    {
      "cell_type": "markdown",
      "metadata": {
        "id": "-Y96xpQoD1jf",
        "colab_type": "text"
      },
      "source": [
        "### References\n",
        "- [GitHub repo](https://github.com/omarsar/nlp_pycon)\n",
        "- [PyTorch official documentation](https://pytorch.org/docs/stable/tensors.html)\n",
        "- [A Simple Neural Network from Scratch with PyTorch and Google Colab](https://medium.com/dair-ai/a-simple-neural-network-from-scratch-with-pytorch-and-google-colab-c7f3830618e0)\n",
        "- [Deep Learning Emotion Recognition with PyTorch](https://github.com/omarsar/appworks_meetup_2018/blob/master/Deep%20Learning%20Emotion%20Recognition%20PyTorch.ipynb)\n",
        "- [Hacking Neural Networks](https://colab.research.google.com/drive/1Loc882hPQwhq212TS4bpUYsTF7KZUD9x#scrollTo=xeRo4GLruC72)"
      ]
    }
  ]
}