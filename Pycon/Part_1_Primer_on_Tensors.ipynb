{
  "nbformat": 4,
  "nbformat_minor": 0,
  "metadata": {
    "colab": {
      "name": "Part 1 - Primer on Tensors",
      "version": "0.3.2",
      "provenance": [],
      "include_colab_link": true
    },
    "kernelspec": {
      "name": "python3",
      "display_name": "Python 3"
    },
    "accelerator": "GPU"
  },
  "cells": [
    {
      "cell_type": "markdown",
      "metadata": {
        "id": "view-in-github",
        "colab_type": "text"
      },
      "source": [
        "<a href=\"https://colab.research.google.com/github/chetansolanke14/NaturalLanguageProcessing/blob/master/Pycon/Part_1_Primer_on_Tensors.ipynb\" target=\"_parent\"><img src=\"https://colab.research.google.com/assets/colab-badge.svg\" alt=\"Open In Colab\"/></a>"
      ]
    },
    {
      "cell_type": "markdown",
      "metadata": {
        "id": "CGHqGiwMcP1c",
        "colab_type": "text"
      },
      "source": [
        "## Part 1 - Primer on Tensors for Deep Learning using PyTorch\n",
        "\n",
        "**Required Time: 20 minutes**\n",
        "\n",
        "In this notebook, we will cover the basic tensor operations which are useful when implementing and training deep learning models. This guide should provide you with enough background on some of the most important tensor operations and computations used in deep learning and machine learning. This will form the foundation for implementing your NLP models. The focus of this notebook will be on use of PyTorch's high-level APIs, but it will provide insights and concise details where necessary to help the reader. \n",
        "\n",
        "\n",
        "After completing this guide, and with enough practise, the learner should feel comfortable with basic tensor creation/manipulation, and composing a pipeline of tensor operations, which will become useful when implimenting deep learning models with PyTorch.\n",
        "\n",
        "---"
      ]
    },
    {
      "cell_type": "markdown",
      "metadata": {
        "id": "F6N6q4aFfz7d",
        "colab_type": "text"
      },
      "source": [
        "### Journey\n",
        "- What is a tensor?\n",
        "- Building Tensors\n",
        "- Special Tensors\n",
        "- Tensor Properties\n",
        "- Tensor Slicing\n",
        "- Tensor operations and transformations\n",
        "- Cuda Tensors\n",
        "- Pipeline of Tensor Operations"
      ]
    },
    {
      "cell_type": "markdown",
      "metadata": {
        "id": "BNtf0dChg17G",
        "colab_type": "text"
      },
      "source": [
        "### What is a Tensor?\n",
        "In different fields and studies, tensors mean completely different things. In the deep learning world, tensors are just high-dimensional data structures which allow for efficient storage and operations. Why are they important? Well, when we are dealing with different kinds of data, such as text and images, we need to *numericalize* (convert to numbers) the data. This means our data will eventually need to be converted into numerical format using some conversion technique. That's not important here. The important part is that tensors store data and we need to learn some properties and chacteristics of them before understanding their use and applicability. "
      ]
    },
    {
      "cell_type": "code",
      "metadata": {
        "id": "_qw-tbPDfrhO",
        "colab_type": "code",
        "colab": {}
      },
      "source": [
        "# Let's important pytorch -- the main PyTorch library;\n",
        "# already installed for us on the Colab environment\n",
        "import torch"
      ],
      "execution_count": 0,
      "outputs": []
    },
    {
      "cell_type": "markdown",
      "metadata": {
        "id": "Bxj_hpLaqhTJ",
        "colab_type": "text"
      },
      "source": [
        "### Building Tensors\n",
        "In deep learning, we are mostly dealing with Tensors. Therefore, it's important to understand different concepts about tensors, such as types, size, special tensors, etc. Let's briefly review a few concepts related to building tensors. Pay close attention to the comments.  "
      ]
    },
    {
      "cell_type": "code",
      "metadata": {
        "id": "sibtlo7O0F_a",
        "colab_type": "code",
        "outputId": "6df18a23-0fd2-49f0-92de-b569955c0b9a",
        "colab": {
          "base_uri": "https://localhost:8080/",
          "height": 34
        }
      },
      "source": [
        "# a scalar\n",
        "A = torch.tensor(1)\n",
        "print(A)"
      ],
      "execution_count": 4,
      "outputs": [
        {
          "output_type": "stream",
          "text": [
            "tensor(1)\n"
          ],
          "name": "stdout"
        }
      ]
    },
    {
      "cell_type": "code",
      "metadata": {
        "id": "DJtujitg1aW4",
        "colab_type": "code",
        "outputId": "8bd24ddd-7847-4178-8423-348df90bc1fb",
        "colab": {
          "base_uri": "https://localhost:8080/",
          "height": 34
        }
      },
      "source": [
        "# a vector (1D tensor); 3-dimensional vector\n",
        "A = torch.tensor([1,2,3])\n",
        "print(A)"
      ],
      "execution_count": 5,
      "outputs": [
        {
          "output_type": "stream",
          "text": [
            "tensor([1, 2, 3])\n"
          ],
          "name": "stdout"
        }
      ]
    },
    {
      "cell_type": "code",
      "metadata": {
        "id": "EcligP_719GG",
        "colab_type": "code",
        "outputId": "23d834ac-9315-4f7f-f0b7-84352021b607",
        "colab": {
          "base_uri": "https://localhost:8080/",
          "height": 51
        }
      },
      "source": [
        "# a matrix (2D tensor)\n",
        "A = torch.tensor([[1, 2, 3, 4],\n",
        "                  [5, 6, 7, 8]])\n",
        "\n",
        "print(A)"
      ],
      "execution_count": 6,
      "outputs": [
        {
          "output_type": "stream",
          "text": [
            "tensor([[1, 2, 3, 4],\n",
            "        [5, 6, 7, 8]])\n"
          ],
          "name": "stdout"
        }
      ]
    },
    {
      "cell_type": "code",
      "metadata": {
        "id": "DCpmGUcF7x1P",
        "colab_type": "code",
        "outputId": "9f1e6897-7702-4990-e3e0-b99ebfe96abb",
        "colab": {
          "base_uri": "https://localhost:8080/",
          "height": 119
        }
      },
      "source": [
        "# a matrix (3D tensor)\n",
        "A = torch.tensor([[[1, 2, 3, 4],\n",
        "                  [5, 6, 7, 8]],\n",
        "                  [[1, 2, 3, 4],\n",
        "                  [5, 6, 7, 8]],\n",
        "                 ])\n",
        "print(A)\n",
        "print(A.size())"
      ],
      "execution_count": 7,
      "outputs": [
        {
          "output_type": "stream",
          "text": [
            "tensor([[[1, 2, 3, 4],\n",
            "         [5, 6, 7, 8]],\n",
            "\n",
            "        [[1, 2, 3, 4],\n",
            "         [5, 6, 7, 8]]])\n",
            "torch.Size([2, 2, 4])\n"
          ],
          "name": "stdout"
        }
      ]
    },
    {
      "cell_type": "code",
      "metadata": {
        "id": "VkAWvrAL8dNs",
        "colab_type": "code",
        "outputId": "fbb93d37-6c41-45de-dbea-d2284d918f8c",
        "colab": {
          "base_uri": "https://localhost:8080/",
          "height": 34
        }
      },
      "source": [
        "# build tensor from a numpy array; useful for data transformations\n",
        "import numpy as np\n",
        "A = torch.tensor(np.random.rand(1, 3))\n",
        "print(A)"
      ],
      "execution_count": 8,
      "outputs": [
        {
          "output_type": "stream",
          "text": [
            "tensor([[0.9479, 0.8378, 0.7038]], dtype=torch.float64)\n"
          ],
          "name": "stdout"
        }
      ]
    },
    {
      "cell_type": "markdown",
      "metadata": {
        "id": "lCONgneoxmb0",
        "colab_type": "text"
      },
      "source": [
        "----\n",
        "\n",
        "### Exercise - Constructing Tensor\n",
        "\n",
        "Build a PyTorch tensor usiong a list from 1-10. Hint: use `range(...)`.\n",
        "\n",
        "----"
      ]
    },
    {
      "cell_type": "code",
      "metadata": {
        "id": "e_COGZijyR4i",
        "colab_type": "code",
        "colab": {
          "base_uri": "https://localhost:8080/",
          "height": 34
        },
        "outputId": "59536386-4013-48c4-f41c-85606b8d0e5e"
      },
      "source": [
        "### YOUR CODE HERE\n",
        "\n",
        "A = torch.arange(1,10)\n",
        "\n",
        "### YOUR CODE HERE\n",
        "A"
      ],
      "execution_count": 9,
      "outputs": [
        {
          "output_type": "execute_result",
          "data": {
            "text/plain": [
              "tensor([1, 2, 3, 4, 5, 6, 7, 8, 9])"
            ]
          },
          "metadata": {
            "tags": []
          },
          "execution_count": 9
        }
      ]
    },
    {
      "cell_type": "markdown",
      "metadata": {
        "id": "jQBzNWiL8hm4",
        "colab_type": "text"
      },
      "source": [
        "### Special Tensors\n",
        "\n",
        "We can also build special tensors such as all-zeros matrix, all-ones matrix, already offered by PyTorch."
      ]
    },
    {
      "cell_type": "code",
      "metadata": {
        "id": "zGS4eV4AAQ7r",
        "colab_type": "code",
        "outputId": "146daf67-1d2f-4a36-c946-0dc4d2424685",
        "colab": {
          "base_uri": "https://localhost:8080/",
          "height": 102
        }
      },
      "source": [
        "# builing tensor with zeros\n",
        "A = torch.zeros(5, 4, dtype=torch.long)\n",
        "print(A)"
      ],
      "execution_count": 10,
      "outputs": [
        {
          "output_type": "stream",
          "text": [
            "tensor([[0, 0, 0, 0],\n",
            "        [0, 0, 0, 0],\n",
            "        [0, 0, 0, 0],\n",
            "        [0, 0, 0, 0],\n",
            "        [0, 0, 0, 0]])\n"
          ],
          "name": "stdout"
        }
      ]
    },
    {
      "cell_type": "code",
      "metadata": {
        "id": "H3GKEwLWloQI",
        "colab_type": "code",
        "outputId": "e561ee84-3b11-4d8f-92fc-db5e903db4ce",
        "colab": {
          "base_uri": "https://localhost:8080/",
          "height": 102
        }
      },
      "source": [
        "# All-ones matrix\n",
        "A = torch.ones(5, 4)\n",
        "print(A)"
      ],
      "execution_count": 11,
      "outputs": [
        {
          "output_type": "stream",
          "text": [
            "tensor([[1., 1., 1., 1.],\n",
            "        [1., 1., 1., 1.],\n",
            "        [1., 1., 1., 1.],\n",
            "        [1., 1., 1., 1.],\n",
            "        [1., 1., 1., 1.]])\n"
          ],
          "name": "stdout"
        }
      ]
    },
    {
      "cell_type": "code",
      "metadata": {
        "id": "ncH6YoYJlyG-",
        "colab_type": "code",
        "outputId": "7176e403-cf7e-41e7-c5a7-0ebb8c8ac71e",
        "colab": {
          "base_uri": "https://localhost:8080/",
          "height": 102
        }
      },
      "source": [
        "# diagonal matrix\n",
        "A = torch.eye(5, 5)\n",
        "print(A)"
      ],
      "execution_count": 12,
      "outputs": [
        {
          "output_type": "stream",
          "text": [
            "tensor([[1., 0., 0., 0., 0.],\n",
            "        [0., 1., 0., 0., 0.],\n",
            "        [0., 0., 1., 0., 0.],\n",
            "        [0., 0., 0., 1., 0.],\n",
            "        [0., 0., 0., 0., 1.]])\n"
          ],
          "name": "stdout"
        }
      ]
    },
    {
      "cell_type": "code",
      "metadata": {
        "id": "t7bne3obAi4X",
        "colab_type": "code",
        "outputId": "2f47dcbc-0227-4d69-9315-534e92292c63",
        "colab": {
          "base_uri": "https://localhost:8080/",
          "height": 102
        }
      },
      "source": [
        "# building tensors with random information\n",
        "A = torch.rand(5, 4)\n",
        "print(A)"
      ],
      "execution_count": 13,
      "outputs": [
        {
          "output_type": "stream",
          "text": [
            "tensor([[0.3062, 0.9231, 0.8084, 0.7766],\n",
            "        [0.8456, 0.4103, 0.7324, 0.7801],\n",
            "        [0.9589, 0.9314, 0.9966, 0.4230],\n",
            "        [0.7935, 0.9238, 0.4369, 0.8128],\n",
            "        [0.8170, 0.9098, 0.9080, 0.8604]])\n"
          ],
          "name": "stdout"
        }
      ]
    },
    {
      "cell_type": "code",
      "metadata": {
        "id": "xnZRC1udy-lJ",
        "colab_type": "code",
        "outputId": "9a74ea4c-f9e9-4404-9043-3a9e7ba2f3e8",
        "colab": {
          "base_uri": "https://localhost:8080/",
          "height": 102
        }
      },
      "source": [
        "# like another tensor\n",
        "A = torch.rand(5, 4)\n",
        "\n",
        "B = torch.ones_like(A)\n",
        "print(B)"
      ],
      "execution_count": 14,
      "outputs": [
        {
          "output_type": "stream",
          "text": [
            "tensor([[1., 1., 1., 1.],\n",
            "        [1., 1., 1., 1.],\n",
            "        [1., 1., 1., 1.],\n",
            "        [1., 1., 1., 1.],\n",
            "        [1., 1., 1., 1.]])\n"
          ],
          "name": "stdout"
        }
      ]
    },
    {
      "cell_type": "code",
      "metadata": {
        "id": "4ntGiWZ0zaPR",
        "colab_type": "code",
        "outputId": "c090713e-34b7-4e76-d6c2-fe93be53d5de",
        "colab": {
          "base_uri": "https://localhost:8080/",
          "height": 34
        }
      },
      "source": [
        "# 1-dimensional ranges\n",
        "\n",
        "torch.linspace(3, 10, steps=5)"
      ],
      "execution_count": 15,
      "outputs": [
        {
          "output_type": "execute_result",
          "data": {
            "text/plain": [
              "tensor([ 3.0000,  4.7500,  6.5000,  8.2500, 10.0000])"
            ]
          },
          "metadata": {
            "tags": []
          },
          "execution_count": 15
        }
      ]
    },
    {
      "cell_type": "markdown",
      "metadata": {
        "id": "KrwEaXtbz508",
        "colab_type": "text"
      },
      "source": [
        "----\n",
        "\n",
        "### Exercise - Constructing Tensor\n",
        "\n",
        "It's important to familiarize oneself with the [PyTorch documentation](https://pytorch.org/docs/stable/torch.html). To make this obvious, let try to construct a tensor tensor with the list of numbers from 1-10. There is an easy way: use `linspace(...)` shown above.\n",
        "\n",
        "----"
      ]
    },
    {
      "cell_type": "code",
      "metadata": {
        "id": "pVjwZln9zvWZ",
        "colab_type": "code",
        "colab": {
          "base_uri": "https://localhost:8080/",
          "height": 258
        },
        "outputId": "348a4504-7491-4155-a68d-fb5d5c88cc0f"
      },
      "source": [
        "### YOUR CODE HERE\n",
        "\n",
        "A =torch.linspace(1,10)\n",
        "\n",
        "### YOUR CODE HERE\n",
        "A"
      ],
      "execution_count": 16,
      "outputs": [
        {
          "output_type": "execute_result",
          "data": {
            "text/plain": [
              "tensor([ 1.0000,  1.0909,  1.1818,  1.2727,  1.3636,  1.4545,  1.5455,  1.6364,\n",
              "         1.7273,  1.8182,  1.9091,  2.0000,  2.0909,  2.1818,  2.2727,  2.3636,\n",
              "         2.4545,  2.5455,  2.6364,  2.7273,  2.8182,  2.9091,  3.0000,  3.0909,\n",
              "         3.1818,  3.2727,  3.3636,  3.4545,  3.5455,  3.6364,  3.7273,  3.8182,\n",
              "         3.9091,  4.0000,  4.0909,  4.1818,  4.2727,  4.3636,  4.4545,  4.5455,\n",
              "         4.6364,  4.7273,  4.8182,  4.9091,  5.0000,  5.0909,  5.1818,  5.2727,\n",
              "         5.3636,  5.4545,  5.5455,  5.6364,  5.7273,  5.8182,  5.9091,  6.0000,\n",
              "         6.0909,  6.1818,  6.2727,  6.3636,  6.4545,  6.5455,  6.6364,  6.7273,\n",
              "         6.8182,  6.9091,  7.0000,  7.0909,  7.1818,  7.2727,  7.3636,  7.4545,\n",
              "         7.5455,  7.6364,  7.7273,  7.8182,  7.9091,  8.0000,  8.0909,  8.1818,\n",
              "         8.2727,  8.3636,  8.4545,  8.5455,  8.6364,  8.7273,  8.8182,  8.9091,\n",
              "         9.0000,  9.0909,  9.1818,  9.2727,  9.3636,  9.4545,  9.5455,  9.6364,\n",
              "         9.7273,  9.8182,  9.9091, 10.0000])"
            ]
          },
          "metadata": {
            "tags": []
          },
          "execution_count": 16
        }
      ]
    },
    {
      "cell_type": "markdown",
      "metadata": {
        "id": "0IEd6VCM1_li",
        "colab_type": "text"
      },
      "source": [
        "### Tensor Properties\n",
        "We can check different properties of the tensors we are building. These special functions are helpful to observe the properties of the tensor data structure we are operating on."
      ]
    },
    {
      "cell_type": "code",
      "metadata": {
        "id": "Tnica0Q_2VCC",
        "colab_type": "code",
        "outputId": "25351321-4b81-4c2a-d734-4e9bf81131c5",
        "colab": {
          "base_uri": "https://localhost:8080/",
          "height": 68
        }
      },
      "source": [
        "# type\n",
        "A = torch.randn(size = (2,3), dtype = torch.float32)\n",
        "print(A.type())\n",
        "A"
      ],
      "execution_count": 18,
      "outputs": [
        {
          "output_type": "stream",
          "text": [
            "torch.FloatTensor\n"
          ],
          "name": "stdout"
        },
        {
          "output_type": "execute_result",
          "data": {
            "text/plain": [
              "tensor([[ 0.9275, -0.1180,  0.1415],\n",
              "        [ 1.1203,  0.1308,  1.9672]])"
            ]
          },
          "metadata": {
            "tags": []
          },
          "execution_count": 18
        }
      ]
    },
    {
      "cell_type": "code",
      "metadata": {
        "id": "IsKdV-kF5D4x",
        "colab_type": "code",
        "outputId": "e6702853-bc8e-4f75-8e34-305f97204410",
        "colab": {
          "base_uri": "https://localhost:8080/",
          "height": 34
        }
      },
      "source": [
        "# size and view and their difference\n",
        "A = torch.eye(4,5)\n",
        "A.size()"
      ],
      "execution_count": 19,
      "outputs": [
        {
          "output_type": "execute_result",
          "data": {
            "text/plain": [
              "torch.Size([4, 5])"
            ]
          },
          "metadata": {
            "tags": []
          },
          "execution_count": 19
        }
      ]
    },
    {
      "cell_type": "markdown",
      "metadata": {
        "id": "Lq7_ZXdt7D0M",
        "colab_type": "text"
      },
      "source": [
        "The best way to learn and memorize all these properties is to go into the documentation and practice as much as you can. "
      ]
    },
    {
      "cell_type": "markdown",
      "metadata": {
        "id": "LAc0YMrIn-ya",
        "colab_type": "text"
      },
      "source": [
        "### Tensor Slicing\n",
        "Understanding how to query and slice tensors."
      ]
    },
    {
      "cell_type": "code",
      "metadata": {
        "id": "VLS-s-VdoEtX",
        "colab_type": "code",
        "outputId": "09941a9a-1340-45d2-ffcf-6ae435a6c27e",
        "colab": {
          "base_uri": "https://localhost:8080/",
          "height": 238
        }
      },
      "source": [
        "A =  torch.eye(5, 5)\n",
        "\n",
        "print(A[3:]) # specific row, all columns\n",
        "print(\"\\n\")\n",
        "print(A[: 3]) # slice of rows, all columns\n",
        "print(\"\\n\")\n",
        "print(A[: -1]) # from first row to second to last row"
      ],
      "execution_count": 20,
      "outputs": [
        {
          "output_type": "stream",
          "text": [
            "tensor([[0., 0., 0., 1., 0.],\n",
            "        [0., 0., 0., 0., 1.]])\n",
            "\n",
            "\n",
            "tensor([[1., 0., 0., 0., 0.],\n",
            "        [0., 1., 0., 0., 0.],\n",
            "        [0., 0., 1., 0., 0.]])\n",
            "\n",
            "\n",
            "tensor([[1., 0., 0., 0., 0.],\n",
            "        [0., 1., 0., 0., 0.],\n",
            "        [0., 0., 1., 0., 0.],\n",
            "        [0., 0., 0., 1., 0.]])\n"
          ],
          "name": "stdout"
        }
      ]
    },
    {
      "cell_type": "markdown",
      "metadata": {
        "id": "dEBUDH_62Xgg",
        "colab_type": "text"
      },
      "source": [
        "### Tensor Operations and Transformations\n",
        "\n",
        "Times, \n",
        "element-wise multiplication,\n",
        "to.tensor() etc..."
      ]
    },
    {
      "cell_type": "code",
      "metadata": {
        "id": "5Ytohwa5xBrX",
        "colab_type": "code",
        "outputId": "e656a385-52f1-4640-be0e-59d210831194",
        "colab": {
          "base_uri": "https://localhost:8080/",
          "height": 102
        }
      },
      "source": [
        "# modify tensor content\n",
        "A = torch.ones(5, 4)\n",
        "\n",
        "A[:2] = 0\n",
        "print(A)"
      ],
      "execution_count": 21,
      "outputs": [
        {
          "output_type": "stream",
          "text": [
            "tensor([[0., 0., 0., 0.],\n",
            "        [0., 0., 0., 0.],\n",
            "        [1., 1., 1., 1.],\n",
            "        [1., 1., 1., 1.],\n",
            "        [1., 1., 1., 1.]])\n"
          ],
          "name": "stdout"
        }
      ]
    },
    {
      "cell_type": "code",
      "metadata": {
        "id": "-Jy3-k2s8DbI",
        "colab_type": "code",
        "outputId": "4e8a887c-7095-44e0-cac0-3828da3db853",
        "colab": {
          "base_uri": "https://localhost:8080/",
          "height": 85
        }
      },
      "source": [
        "# transpose\n",
        "A.transpose(1,0)"
      ],
      "execution_count": 22,
      "outputs": [
        {
          "output_type": "execute_result",
          "data": {
            "text/plain": [
              "tensor([[0., 0., 1., 1., 1.],\n",
              "        [0., 0., 1., 1., 1.],\n",
              "        [0., 0., 1., 1., 1.],\n",
              "        [0., 0., 1., 1., 1.]])"
            ]
          },
          "metadata": {
            "tags": []
          },
          "execution_count": 22
        }
      ]
    },
    {
      "cell_type": "markdown",
      "metadata": {
        "id": "R-EzCcbY8zGd",
        "colab_type": "text"
      },
      "source": [
        "What happens if we print A again, woud it be transposed?"
      ]
    },
    {
      "cell_type": "code",
      "metadata": {
        "id": "L_cSLrSY85Tr",
        "colab_type": "code",
        "outputId": "8332d336-eeb4-4ae4-83b7-f06410c6c7f6",
        "colab": {
          "base_uri": "https://localhost:8080/",
          "height": 102
        }
      },
      "source": [
        "print(A)"
      ],
      "execution_count": 23,
      "outputs": [
        {
          "output_type": "stream",
          "text": [
            "tensor([[0., 0., 0., 0.],\n",
            "        [0., 0., 0., 0.],\n",
            "        [1., 1., 1., 1.],\n",
            "        [1., 1., 1., 1.],\n",
            "        [1., 1., 1., 1.]])\n"
          ],
          "name": "stdout"
        }
      ]
    },
    {
      "cell_type": "markdown",
      "metadata": {
        "id": "9qQRc5CI89f-",
        "colab_type": "text"
      },
      "source": [
        "Apparently not! There is a quick fix to make transformations and operations in place. Use \"`_`\" after the method."
      ]
    },
    {
      "cell_type": "code",
      "metadata": {
        "id": "qmlPNpXX9NW0",
        "colab_type": "code",
        "outputId": "c73a30ae-daee-4261-9a81-916c02d93d3a",
        "colab": {
          "base_uri": "https://localhost:8080/",
          "height": 85
        }
      },
      "source": [
        "A.transpose_(1, 0)\n",
        "print(A)"
      ],
      "execution_count": 24,
      "outputs": [
        {
          "output_type": "stream",
          "text": [
            "tensor([[0., 0., 1., 1., 1.],\n",
            "        [0., 0., 1., 1., 1.],\n",
            "        [0., 0., 1., 1., 1.],\n",
            "        [0., 0., 1., 1., 1.]])\n"
          ],
          "name": "stdout"
        }
      ]
    },
    {
      "cell_type": "markdown",
      "metadata": {
        "id": "HCHd0Dmn9Uhx",
        "colab_type": "text"
      },
      "source": [
        "Let's do some simple math..."
      ]
    },
    {
      "cell_type": "code",
      "metadata": {
        "id": "VBlyBt-b34Z2",
        "colab_type": "code",
        "outputId": "247f0569-17a9-438f-ddf4-a13b138bdfc9",
        "colab": {
          "base_uri": "https://localhost:8080/",
          "height": 272
        }
      },
      "source": [
        "# addition\n",
        "A = torch.ones(5, 3)\n",
        "B = torch.ones(5, 3)\n",
        "print(A + B)\n",
        "\n",
        "# addition in place\n",
        "print(torch.add(A, B))\n",
        "\n",
        "# addition in place; uses symbol \"_\"\n",
        "A.add_(B)"
      ],
      "execution_count": 25,
      "outputs": [
        {
          "output_type": "stream",
          "text": [
            "tensor([[2., 2., 2.],\n",
            "        [2., 2., 2.],\n",
            "        [2., 2., 2.],\n",
            "        [2., 2., 2.],\n",
            "        [2., 2., 2.]])\n",
            "tensor([[2., 2., 2.],\n",
            "        [2., 2., 2.],\n",
            "        [2., 2., 2.],\n",
            "        [2., 2., 2.],\n",
            "        [2., 2., 2.]])\n"
          ],
          "name": "stdout"
        },
        {
          "output_type": "execute_result",
          "data": {
            "text/plain": [
              "tensor([[2., 2., 2.],\n",
              "        [2., 2., 2.],\n",
              "        [2., 2., 2.],\n",
              "        [2., 2., 2.],\n",
              "        [2., 2., 2.]])"
            ]
          },
          "metadata": {
            "tags": []
          },
          "execution_count": 25
        }
      ]
    },
    {
      "cell_type": "code",
      "metadata": {
        "id": "oyF3al0glGjB",
        "colab_type": "code",
        "outputId": "eeb7ab11-1cf9-4c7b-c1cb-0d8389d4047a",
        "colab": {
          "base_uri": "https://localhost:8080/",
          "height": 34
        }
      },
      "source": [
        "# power and sum\n",
        "A =  torch.tensor([1.0, 2.0])\n",
        "out = A.pow(2).sum()\n",
        "print(out)"
      ],
      "execution_count": 26,
      "outputs": [
        {
          "output_type": "stream",
          "text": [
            "tensor(5.)\n"
          ],
          "name": "stdout"
        }
      ]
    },
    {
      "cell_type": "code",
      "metadata": {
        "id": "WSFRAPgJA6ZA",
        "colab_type": "code",
        "outputId": "a098b166-ea98-4f52-8da9-ffd60afd0183",
        "colab": {
          "base_uri": "https://localhost:8080/",
          "height": 102
        }
      },
      "source": [
        "# element-wise multiplication\n",
        "\n",
        "A = torch.eye(5, 5)\n",
        "B = torch.ones(5, 5)\n",
        "\n",
        "print(A * B)"
      ],
      "execution_count": 27,
      "outputs": [
        {
          "output_type": "stream",
          "text": [
            "tensor([[1., 0., 0., 0., 0.],\n",
            "        [0., 1., 0., 0., 0.],\n",
            "        [0., 0., 1., 0., 0.],\n",
            "        [0., 0., 0., 1., 0.],\n",
            "        [0., 0., 0., 0., 1.]])\n"
          ],
          "name": "stdout"
        }
      ]
    },
    {
      "cell_type": "markdown",
      "metadata": {
        "id": "QmY8ebff96Ts",
        "colab_type": "text"
      },
      "source": [
        "---\n",
        "\n",
        "### EXERCISE - Tensor Operations and Transformations\n",
        "\n",
        "Generate this matrix (Hint: `torch.rot90()`):\n",
        "\n",
        "```python\n",
        "\n",
        "tensor([[0., 0., 0., 0., 1.],\n",
        "        [0., 0., 0., 1., 0.],\n",
        "        [0., 0., 1., 0., 0.],\n",
        "        [0., 1., 0., 0., 0.],\n",
        "        [1., 0., 0., 0., 0.]])\n",
        "```\n",
        "\n",
        "----\n",
        "\n",
        "\n"
      ]
    },
    {
      "cell_type": "code",
      "metadata": {
        "id": "cmOD9YmsBYHm",
        "colab_type": "code",
        "colab": {
          "base_uri": "https://localhost:8080/",
          "height": 102
        },
        "outputId": "f194922e-552c-4add-c867-8bd4b3cb3e4b"
      },
      "source": [
        "A = torch.eye(5, 5)\n",
        "B = torch.ones(5, 5)\n",
        "C = A * B\n",
        "\n",
        "### YOUR CODE HERE\n",
        "D=C.rot90()\n",
        "\n",
        "### YOUR CODE HERE\n",
        "D"
      ],
      "execution_count": 31,
      "outputs": [
        {
          "output_type": "execute_result",
          "data": {
            "text/plain": [
              "tensor([[0., 0., 0., 0., 1.],\n",
              "        [0., 0., 0., 1., 0.],\n",
              "        [0., 0., 1., 0., 0.],\n",
              "        [0., 1., 0., 0., 0.],\n",
              "        [1., 0., 0., 0., 0.]])"
            ]
          },
          "metadata": {
            "tags": []
          },
          "execution_count": 31
        }
      ]
    },
    {
      "cell_type": "markdown",
      "metadata": {
        "id": "resZM-38ozaY",
        "colab_type": "text"
      },
      "source": [
        "### Cuda Tensors\n",
        "PyTorch provides the option to easily manipulate tensors in addition to moving them from gpu and cpu, which allows for ease of training and controlling which parts should be commited to the gpu or the cpu. This gives the control/flexibility to the programmer to design the models for different scenarios with different compute resources."
      ]
    },
    {
      "cell_type": "code",
      "metadata": {
        "id": "o1wgOhdDqIGw",
        "colab_type": "code",
        "outputId": "2f03dc3b-8a3c-4c4e-dfef-e80d7d4098fc",
        "colab": {
          "base_uri": "https://localhost:8080/",
          "height": 187
        }
      },
      "source": [
        "# check if cuda is available in your computer\n",
        "print(\"---------------------------------------------------\")\n",
        "print(\"Cuda status:\", torch.cuda.is_available())\n",
        "\n",
        "device_0 = torch.device(\"cuda\")\n",
        "device_1 = torch.device(\"cpu\")\n",
        "\n",
        "print(\"---------------------------------------------------\")\n",
        "\n",
        "x = torch.rand(2, 3)\n",
        "y = torch.ones_like(x, device=device_0)\n",
        "z = torch.zeros_like(x, device=device_1)\n",
        "print(\"Tensor y is stored in: \", y.device)\n",
        "print(y)\n",
        "print(\"---------------------------------------------------\")\n",
        "print(\"Tensor x is stored in: \", x.device)\n",
        "print(x)"
      ],
      "execution_count": 32,
      "outputs": [
        {
          "output_type": "stream",
          "text": [
            "---------------------------------------------------\n",
            "Cuda status: True\n",
            "---------------------------------------------------\n",
            "Tensor y is stored in:  cuda:0\n",
            "tensor([[1., 1., 1.],\n",
            "        [1., 1., 1.]], device='cuda:0')\n",
            "---------------------------------------------------\n",
            "Tensor x is stored in:  cpu\n",
            "tensor([[0.3491, 0.8053, 0.1612],\n",
            "        [0.2456, 0.7837, 0.8778]])\n"
          ],
          "name": "stdout"
        }
      ]
    },
    {
      "cell_type": "code",
      "metadata": {
        "id": "X4UIvD41D7y1",
        "colab_type": "code",
        "outputId": "db6925a0-95eb-4816-eb92-7678cb3f1848",
        "colab": {
          "base_uri": "https://localhost:8080/",
          "height": 51
        }
      },
      "source": [
        "# check if tensor stored in GPU\n",
        "\n",
        "print(y.is_cuda)\n",
        "print(x.is_cuda)"
      ],
      "execution_count": 35,
      "outputs": [
        {
          "output_type": "stream",
          "text": [
            "True\n",
            "False\n"
          ],
          "name": "stdout"
        }
      ]
    },
    {
      "cell_type": "markdown",
      "metadata": {
        "id": "OA9DBbSNEOZ6",
        "colab_type": "text"
      },
      "source": [
        "There are significant differences in execution time when dealing with huge tensors."
      ]
    },
    {
      "cell_type": "code",
      "metadata": {
        "id": "EIxsYV92wTXq",
        "colab_type": "code",
        "outputId": "6dbd4fad-c4c1-4d34-b46a-9226a5aaf5f2",
        "colab": {
          "base_uri": "https://localhost:8080/",
          "height": 51
        }
      },
      "source": [
        "%%time\n",
        "a = torch.rand(1000, 1000)\n",
        "b = torch.rand(1000, 1000)\n",
        "\n",
        "a.matmul(b)"
      ],
      "execution_count": 36,
      "outputs": [
        {
          "output_type": "stream",
          "text": [
            "CPU times: user 40.7 ms, sys: 2.24 ms, total: 43 ms\n",
            "Wall time: 45.2 ms\n"
          ],
          "name": "stdout"
        }
      ]
    },
    {
      "cell_type": "code",
      "metadata": {
        "id": "hK1lt3Cbw18r",
        "colab_type": "code",
        "outputId": "2f9a034d-5dab-413d-955d-7d687da532fc",
        "colab": {
          "base_uri": "https://localhost:8080/",
          "height": 51
        }
      },
      "source": [
        "%%time\n",
        "a = torch.rand(1000, 1000).cuda()\n",
        "b = torch.rand(1000, 1000).cuda()\n",
        "\n",
        "a.matmul(b)"
      ],
      "execution_count": 37,
      "outputs": [
        {
          "output_type": "stream",
          "text": [
            "CPU times: user 18.7 ms, sys: 992 µs, total: 19.6 ms\n",
            "Wall time: 29.3 ms\n"
          ],
          "name": "stdout"
        }
      ]
    },
    {
      "cell_type": "markdown",
      "metadata": {
        "id": "jK0gyWt3A7IA",
        "colab_type": "text"
      },
      "source": [
        "### Pipeline of Tensor Operations\n",
        "With PyTorch everything is a chain of operations  and the high-level APIs offer all the necessary functionalities to achieve this. Below, we will explore a simple approach to chaining tensor operations. In other words, we are designing a graph or a flow of operations that are chained together, designed to output something. This is essential for training neural networks. This is why neural networks are sometimes called **computation graphs**, because they are simply a chain of operations."
      ]
    },
    {
      "cell_type": "code",
      "metadata": {
        "id": "igM7sZfpvPw2",
        "colab_type": "code",
        "colab": {}
      },
      "source": [
        "import torch.nn as nn\n",
        "\n",
        "class Chain(nn.Module):\n",
        "  def __init__(self, ):\n",
        "    super(Chain, self).__init__()\n",
        "    \n",
        "  def forward(self, x):\n",
        "    print(\"---------------------------------------------------\")\n",
        "    print(\"X:\")\n",
        "    print(x)\n",
        "    print(\"---------------------------------------------------\")\n",
        "    print(\"X powered by 2:\")\n",
        "    print(x.pow(2))\n",
        "    print(\"mean(X): \")\n",
        "    out = x.mean()\n",
        "    return out"
      ],
      "execution_count": 0,
      "outputs": []
    },
    {
      "cell_type": "code",
      "metadata": {
        "id": "tYWSp6yBv_HE",
        "colab_type": "code",
        "outputId": "7ba165d0-219a-40c7-901a-c5b0750356cc",
        "colab": {
          "base_uri": "https://localhost:8080/",
          "height": 275
        }
      },
      "source": [
        "x =  torch.rand((4,5), dtype=torch.float64)\n",
        "chain = Chain()\n",
        "mean_x = chain(x)\n",
        "print(mean_x)"
      ],
      "execution_count": 39,
      "outputs": [
        {
          "output_type": "stream",
          "text": [
            "---------------------------------------------------\n",
            "X:\n",
            "tensor([[0.8438, 0.6458, 0.1362, 0.3858, 0.5754],\n",
            "        [0.7742, 0.8435, 0.2735, 0.1725, 0.3947],\n",
            "        [0.9314, 0.4718, 0.1461, 0.7349, 0.8739],\n",
            "        [0.8958, 0.7001, 0.5050, 0.1199, 0.7704]], dtype=torch.float64)\n",
            "---------------------------------------------------\n",
            "X powered by 2:\n",
            "tensor([[0.7119, 0.4171, 0.0185, 0.1488, 0.3311],\n",
            "        [0.5994, 0.7114, 0.0748, 0.0298, 0.1558],\n",
            "        [0.8675, 0.2226, 0.0213, 0.5401, 0.7636],\n",
            "        [0.8025, 0.4901, 0.2551, 0.0144, 0.5935]], dtype=torch.float64)\n",
            "mean(X): \n",
            "tensor(0.5597, dtype=torch.float64)\n"
          ],
          "name": "stdout"
        }
      ]
    },
    {
      "cell_type": "markdown",
      "metadata": {
        "id": "2Zs27euryhd4",
        "colab_type": "text"
      },
      "source": [
        "The benefit of the chainer or computation graph is that it can resused and different inputs can be fed into it."
      ]
    },
    {
      "cell_type": "code",
      "metadata": {
        "id": "0yxO9LJc0Ftw",
        "colab_type": "code",
        "outputId": "2050605d-37aa-40b7-c7f8-1b80d4479afa",
        "colab": {
          "base_uri": "https://localhost:8080/",
          "height": 306
        }
      },
      "source": [
        "y = torch.eye(5,5)\n",
        "print(torch.mean(y))\n",
        "chain_2 = Chain()\n",
        "mean_y = chain_2(y)\n",
        "print(mean_y)"
      ],
      "execution_count": 40,
      "outputs": [
        {
          "output_type": "stream",
          "text": [
            "tensor(0.2000)\n",
            "---------------------------------------------------\n",
            "X:\n",
            "tensor([[1., 0., 0., 0., 0.],\n",
            "        [0., 1., 0., 0., 0.],\n",
            "        [0., 0., 1., 0., 0.],\n",
            "        [0., 0., 0., 1., 0.],\n",
            "        [0., 0., 0., 0., 1.]])\n",
            "---------------------------------------------------\n",
            "X powered by 2:\n",
            "tensor([[1., 0., 0., 0., 0.],\n",
            "        [0., 1., 0., 0., 0.],\n",
            "        [0., 0., 1., 0., 0.],\n",
            "        [0., 0., 0., 1., 0.],\n",
            "        [0., 0., 0., 0., 1.]])\n",
            "mean(X): \n",
            "tensor(0.2000)\n"
          ],
          "name": "stdout"
        }
      ]
    },
    {
      "cell_type": "markdown",
      "metadata": {
        "id": "mH86fmXtVx7p",
        "colab_type": "text"
      },
      "source": [
        "---"
      ]
    },
    {
      "cell_type": "markdown",
      "metadata": {
        "id": "-Y96xpQoD1jf",
        "colab_type": "text"
      },
      "source": [
        "### References\n",
        "- [GitHub repo](https://github.com/omarsar/nlp_pycon)\n",
        "- [PyTorch official documentation](https://pytorch.org/docs/stable/tensors.html)\n",
        "- [A Simple Neural Network from Scratch with PyTorch and Google Colab](https://medium.com/dair-ai/a-simple-neural-network-from-scratch-with-pytorch-and-google-colab-c7f3830618e0)\n",
        "- [Deep Learning Emotion Recognition with PyTorch](https://github.com/omarsar/appworks_meetup_2018/blob/master/Deep%20Learning%20Emotion%20Recognition%20PyTorch.ipynb)\n",
        "- [Hacking Neural Networks](https://colab.research.google.com/drive/1Loc882hPQwhq212TS4bpUYsTF7KZUD9x#scrollTo=xeRo4GLruC72)"
      ]
    }
  ]
}