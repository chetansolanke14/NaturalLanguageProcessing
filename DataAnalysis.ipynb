{
  "nbformat": 4,
  "nbformat_minor": 0,
  "metadata": {
    "colab": {
      "name": "DataAnalysis.ipynb",
      "provenance": [],
      "include_colab_link": true
    },
    "kernelspec": {
      "name": "python3",
      "display_name": "Python 3"
    }
  },
  "cells": [
    {
      "cell_type": "markdown",
      "metadata": {
        "id": "view-in-github",
        "colab_type": "text"
      },
      "source": [
        "<a href=\"https://colab.research.google.com/github/chetansolanke14/NaturalLanguageProcessing/blob/master/DataAnalysis.ipynb\" target=\"_parent\"><img src=\"https://colab.research.google.com/assets/colab-badge.svg\" alt=\"Open In Colab\"/></a>"
      ]
    },
    {
      "cell_type": "markdown",
      "metadata": {
        "id": "PHORBuwIcrLa",
        "colab_type": "text"
      },
      "source": [
        "Import Pandas library:"
      ]
    },
    {
      "cell_type": "code",
      "metadata": {
        "id": "oUSEwDfX9kyO",
        "colab_type": "code",
        "colab": {}
      },
      "source": [
        "import pandas as pd"
      ],
      "execution_count": 0,
      "outputs": []
    },
    {
      "cell_type": "markdown",
      "metadata": {
        "id": "OlPkReKDcwaD",
        "colab_type": "text"
      },
      "source": [
        "Load dataset from the below sources:\n",
        "\n",
        "\n",
        "https://cdn.skillenza.com/files/b5a59511-dd5f-433d-ae51-3ca32008ce08/on_the_move_sample.zip\n",
        "\n",
        "\n",
        "https://cdn.skillenza.com/files/00bd4331-5689-4ddc-8400-81159ab69918/on_the_move_test.zip\n",
        "\n",
        "\n",
        "https://cdn.skillenza.com/files/e86189ac-98c4-459e-8edb-2477121502d4/empty.csv"
      ]
    },
    {
      "cell_type": "code",
      "metadata": {
        "id": "Q-Ko2oUy_45D",
        "colab_type": "code",
        "colab": {
          "base_uri": "https://localhost:8080/",
          "height": 224
        },
        "outputId": "b63b5416-2521-4939-b5f2-085a1e6a2852"
      },
      "source": [
        "#!wget https://cdn.skillenza.com/files/b5a59511-dd5f-433d-ae51-3ca32008ce08/on_the_move_sample.zip"
      ],
      "execution_count": 2,
      "outputs": [
        {
          "output_type": "stream",
          "text": [
            "--2019-09-27 18:33:21--  https://cdn.skillenza.com/files/b5a59511-dd5f-433d-ae51-3ca32008ce08/on_the_move_sample.zip\n",
            "Resolving cdn.skillenza.com (cdn.skillenza.com)... 13.224.2.63, 13.224.2.34, 13.224.2.14, ...\n",
            "Connecting to cdn.skillenza.com (cdn.skillenza.com)|13.224.2.63|:443... connected.\n",
            "HTTP request sent, awaiting response... 200 OK\n",
            "Length: 813 [application/zip]\n",
            "Saving to: ‘on_the_move_sample.zip’\n",
            "\n",
            "on_the_move_sample. 100%[===================>]     813  --.-KB/s    in 0s      \n",
            "\n",
            "2019-09-27 18:33:22 (178 MB/s) - ‘on_the_move_sample.zip’ saved [813/813]\n",
            "\n"
          ],
          "name": "stdout"
        }
      ]
    },
    {
      "cell_type": "code",
      "metadata": {
        "id": "sonY2qSD_7PR",
        "colab_type": "code",
        "colab": {
          "base_uri": "https://localhost:8080/",
          "height": 204
        },
        "outputId": "e9bba159-e24e-42bb-9890-89b0d87eec6a"
      },
      "source": [
        "#!wget https://cdn.skillenza.com/files/00bd4331-5689-4ddc-8400-81159ab69918/on_the_move_test.zip"
      ],
      "execution_count": 3,
      "outputs": [
        {
          "output_type": "stream",
          "text": [
            "--2019-09-27 18:33:48--  https://cdn.skillenza.com/files/00bd4331-5689-4ddc-8400-81159ab69918/on_the_move_test.zip\n",
            "Resolving cdn.skillenza.com (cdn.skillenza.com)... 13.224.2.63, 13.224.2.34, 13.224.2.14, ...\n",
            "Connecting to cdn.skillenza.com (cdn.skillenza.com)|13.224.2.63|:443... connected.\n",
            "HTTP request sent, awaiting response... 200 OK\n",
            "Length: 2418014 (2.3M) [application/zip]\n",
            "Saving to: ‘on_the_move_test.zip’\n",
            "\n",
            "on_the_move_test.zi 100%[===================>]   2.31M  2.03MB/s    in 1.1s    \n",
            "\n",
            "2019-09-27 18:33:50 (2.03 MB/s) - ‘on_the_move_test.zip’ saved [2418014/2418014]\n",
            "\n"
          ],
          "name": "stdout"
        }
      ]
    },
    {
      "cell_type": "code",
      "metadata": {
        "id": "HXD0uJSWABvp",
        "colab_type": "code",
        "colab": {
          "base_uri": "https://localhost:8080/",
          "height": 204
        },
        "outputId": "21d3b166-ea49-4c55-b57d-e552e2925f58"
      },
      "source": [
        "#!wget https://cdn.skillenza.com/files/e86189ac-98c4-459e-8edb-2477121502d4/empty.csv"
      ],
      "execution_count": 4,
      "outputs": [
        {
          "output_type": "stream",
          "text": [
            "--2019-09-27 18:34:01--  https://cdn.skillenza.com/files/e86189ac-98c4-459e-8edb-2477121502d4/empty.csv\n",
            "Resolving cdn.skillenza.com (cdn.skillenza.com)... 13.224.2.63, 13.224.2.34, 13.224.2.14, ...\n",
            "Connecting to cdn.skillenza.com (cdn.skillenza.com)|13.224.2.63|:443... connected.\n",
            "HTTP request sent, awaiting response... 200 OK\n",
            "Length: 0 [text/csv]\n",
            "Saving to: ‘empty.csv’\n",
            "\n",
            "\rempty.csv               [<=>                 ]       0  --.-KB/s               \rempty.csv               [ <=>                ]       0  --.-KB/s    in 0s      \n",
            "\n",
            "2019-09-27 18:34:02 (0.00 B/s) - ‘empty.csv’ saved [0/0]\n",
            "\n"
          ],
          "name": "stdout"
        }
      ]
    },
    {
      "cell_type": "code",
      "metadata": {
        "id": "XK9mJwb_AE7t",
        "colab_type": "code",
        "colab": {
          "base_uri": "https://localhost:8080/",
          "height": 68
        },
        "outputId": "25b2a51e-2039-4140-d404-4aa6d77a0b6a"
      },
      "source": [
        "#!unzip on_the_move_sample.zip"
      ],
      "execution_count": 5,
      "outputs": [
        {
          "output_type": "stream",
          "text": [
            "Archive:  on_the_move_sample.zip\n",
            "  inflating: Position.csv            \n",
            "  inflating: Solution.csv            \n"
          ],
          "name": "stdout"
        }
      ]
    },
    {
      "cell_type": "code",
      "metadata": {
        "id": "jo_Sf7PqANql",
        "colab_type": "code",
        "colab": {
          "base_uri": "https://localhost:8080/",
          "height": 85
        },
        "outputId": "58723266-098c-425f-ceef-a152547170c7"
      },
      "source": [
        "#!unzip on_the_move_test.zip"
      ],
      "execution_count": 6,
      "outputs": [
        {
          "output_type": "stream",
          "text": [
            "Archive:  on_the_move_test.zip\n",
            "replace Position.csv? [y]es, [n]o, [A]ll, [N]one, [r]ename: r\n",
            "new name: Position_test.csv\n",
            "  inflating: Position_test.csv       \n"
          ],
          "name": "stdout"
        }
      ]
    },
    {
      "cell_type": "markdown",
      "metadata": {
        "id": "jz_uWRAmdDvQ",
        "colab_type": "text"
      },
      "source": [
        "Create dataframe from the imported data"
      ]
    },
    {
      "cell_type": "code",
      "metadata": {
        "id": "DB5f6ce8AUbi",
        "colab_type": "code",
        "colab": {}
      },
      "source": [
        "position = pd.read_csv('Position.csv')\n",
        "position_test = pd.read_csv('Position_test.csv')\n",
        "solution =pd.read_csv('Solution.csv')\n",
        "#sample_sol = pd.read_csv('empty.csv')"
      ],
      "execution_count": 0,
      "outputs": []
    },
    {
      "cell_type": "code",
      "metadata": {
        "id": "VWhbB-kFBGqD",
        "colab_type": "code",
        "colab": {
          "base_uri": "https://localhost:8080/",
          "height": 204
        },
        "outputId": "772aa563-789a-4b9a-cfd7-f7abf9b644f6"
      },
      "source": [
        "position.head()"
      ],
      "execution_count": 9,
      "outputs": [
        {
          "output_type": "execute_result",
          "data": {
            "text/html": [
              "<div>\n",
              "<style scoped>\n",
              "    .dataframe tbody tr th:only-of-type {\n",
              "        vertical-align: middle;\n",
              "    }\n",
              "\n",
              "    .dataframe tbody tr th {\n",
              "        vertical-align: top;\n",
              "    }\n",
              "\n",
              "    .dataframe thead th {\n",
              "        text-align: right;\n",
              "    }\n",
              "</style>\n",
              "<table border=\"1\" class=\"dataframe\">\n",
              "  <thead>\n",
              "    <tr style=\"text-align: right;\">\n",
              "      <th></th>\n",
              "      <th>position_id</th>\n",
              "      <th>user_id</th>\n",
              "      <th>coordinate</th>\n",
              "      <th>unix_timestamp</th>\n",
              "    </tr>\n",
              "  </thead>\n",
              "  <tbody>\n",
              "    <tr>\n",
              "      <th>0</th>\n",
              "      <td>1</td>\n",
              "      <td>8</td>\n",
              "      <td>-2,1</td>\n",
              "      <td>1456704000</td>\n",
              "    </tr>\n",
              "    <tr>\n",
              "      <th>1</th>\n",
              "      <td>2</td>\n",
              "      <td>5</td>\n",
              "      <td>-2,-1</td>\n",
              "      <td>1456704046</td>\n",
              "    </tr>\n",
              "    <tr>\n",
              "      <th>2</th>\n",
              "      <td>3</td>\n",
              "      <td>6</td>\n",
              "      <td>-2,-2</td>\n",
              "      <td>1456704063</td>\n",
              "    </tr>\n",
              "    <tr>\n",
              "      <th>3</th>\n",
              "      <td>4</td>\n",
              "      <td>3</td>\n",
              "      <td>1,0</td>\n",
              "      <td>1456704074</td>\n",
              "    </tr>\n",
              "    <tr>\n",
              "      <th>4</th>\n",
              "      <td>5</td>\n",
              "      <td>7</td>\n",
              "      <td>0,2</td>\n",
              "      <td>1456704122</td>\n",
              "    </tr>\n",
              "  </tbody>\n",
              "</table>\n",
              "</div>"
            ],
            "text/plain": [
              "   position_id  user_id coordinate  unix_timestamp\n",
              "0            1        8       -2,1      1456704000\n",
              "1            2        5      -2,-1      1456704046\n",
              "2            3        6      -2,-2      1456704063\n",
              "3            4        3        1,0      1456704074\n",
              "4            5        7        0,2      1456704122"
            ]
          },
          "metadata": {
            "tags": []
          },
          "execution_count": 9
        }
      ]
    },
    {
      "cell_type": "code",
      "metadata": {
        "id": "qLqSmLacBO05",
        "colab_type": "code",
        "colab": {
          "base_uri": "https://localhost:8080/",
          "height": 204
        },
        "outputId": "a051d640-98f5-4a1b-bf7b-2f384c172a7b"
      },
      "source": [
        "position_test.head()"
      ],
      "execution_count": 10,
      "outputs": [
        {
          "output_type": "execute_result",
          "data": {
            "text/html": [
              "<div>\n",
              "<style scoped>\n",
              "    .dataframe tbody tr th:only-of-type {\n",
              "        vertical-align: middle;\n",
              "    }\n",
              "\n",
              "    .dataframe tbody tr th {\n",
              "        vertical-align: top;\n",
              "    }\n",
              "\n",
              "    .dataframe thead th {\n",
              "        text-align: right;\n",
              "    }\n",
              "</style>\n",
              "<table border=\"1\" class=\"dataframe\">\n",
              "  <thead>\n",
              "    <tr style=\"text-align: right;\">\n",
              "      <th></th>\n",
              "      <th>position_id</th>\n",
              "      <th>user_id</th>\n",
              "      <th>coordinate</th>\n",
              "      <th>unix_timestamp</th>\n",
              "    </tr>\n",
              "  </thead>\n",
              "  <tbody>\n",
              "    <tr>\n",
              "      <th>0</th>\n",
              "      <td>1</td>\n",
              "      <td>1213</td>\n",
              "      <td>-5,6</td>\n",
              "      <td>1400000000</td>\n",
              "    </tr>\n",
              "    <tr>\n",
              "      <th>1</th>\n",
              "      <td>2</td>\n",
              "      <td>16229</td>\n",
              "      <td>-2,-7</td>\n",
              "      <td>1400000013</td>\n",
              "    </tr>\n",
              "    <tr>\n",
              "      <th>2</th>\n",
              "      <td>3</td>\n",
              "      <td>43</td>\n",
              "      <td>6,2</td>\n",
              "      <td>1400000157</td>\n",
              "    </tr>\n",
              "    <tr>\n",
              "      <th>3</th>\n",
              "      <td>4</td>\n",
              "      <td>5101</td>\n",
              "      <td>-2,4</td>\n",
              "      <td>1400000557</td>\n",
              "    </tr>\n",
              "    <tr>\n",
              "      <th>4</th>\n",
              "      <td>5</td>\n",
              "      <td>1213</td>\n",
              "      <td>-11,-10</td>\n",
              "      <td>1400000589</td>\n",
              "    </tr>\n",
              "  </tbody>\n",
              "</table>\n",
              "</div>"
            ],
            "text/plain": [
              "   position_id  user_id coordinate  unix_timestamp\n",
              "0            1     1213       -5,6      1400000000\n",
              "1            2    16229      -2,-7      1400000013\n",
              "2            3       43        6,2      1400000157\n",
              "3            4     5101       -2,4      1400000557\n",
              "4            5     1213    -11,-10      1400000589"
            ]
          },
          "metadata": {
            "tags": []
          },
          "execution_count": 10
        }
      ]
    },
    {
      "cell_type": "code",
      "metadata": {
        "id": "cMCKQ4q-BRzS",
        "colab_type": "code",
        "colab": {
          "base_uri": "https://localhost:8080/",
          "height": 204
        },
        "outputId": "a5d07ad0-f268-4d05-8ea3-91a5fff19181"
      },
      "source": [
        "solution.head()"
      ],
      "execution_count": 11,
      "outputs": [
        {
          "output_type": "execute_result",
          "data": {
            "text/html": [
              "<div>\n",
              "<style scoped>\n",
              "    .dataframe tbody tr th:only-of-type {\n",
              "        vertical-align: middle;\n",
              "    }\n",
              "\n",
              "    .dataframe tbody tr th {\n",
              "        vertical-align: top;\n",
              "    }\n",
              "\n",
              "    .dataframe thead th {\n",
              "        text-align: right;\n",
              "    }\n",
              "</style>\n",
              "<table border=\"1\" class=\"dataframe\">\n",
              "  <thead>\n",
              "    <tr style=\"text-align: right;\">\n",
              "      <th></th>\n",
              "      <th>user_id</th>\n",
              "      <th>distance</th>\n",
              "    </tr>\n",
              "  </thead>\n",
              "  <tbody>\n",
              "    <tr>\n",
              "      <th>0</th>\n",
              "      <td>1</td>\n",
              "      <td>13</td>\n",
              "    </tr>\n",
              "    <tr>\n",
              "      <th>1</th>\n",
              "      <td>2</td>\n",
              "      <td>13</td>\n",
              "    </tr>\n",
              "    <tr>\n",
              "      <th>2</th>\n",
              "      <td>3</td>\n",
              "      <td>30</td>\n",
              "    </tr>\n",
              "    <tr>\n",
              "      <th>3</th>\n",
              "      <td>4</td>\n",
              "      <td>20</td>\n",
              "    </tr>\n",
              "    <tr>\n",
              "      <th>4</th>\n",
              "      <td>5</td>\n",
              "      <td>33</td>\n",
              "    </tr>\n",
              "  </tbody>\n",
              "</table>\n",
              "</div>"
            ],
            "text/plain": [
              "   user_id  distance\n",
              "0        1        13\n",
              "1        2        13\n",
              "2        3        30\n",
              "3        4        20\n",
              "4        5        33"
            ]
          },
          "metadata": {
            "tags": []
          },
          "execution_count": 11
        }
      ]
    },
    {
      "cell_type": "markdown",
      "metadata": {
        "id": "Vei40cfUdLwa",
        "colab_type": "text"
      },
      "source": [
        "Created below function to "
      ]
    },
    {
      "cell_type": "code",
      "metadata": {
        "id": "x2-acdJyHR7_",
        "colab_type": "code",
        "colab": {}
      },
      "source": [
        "def position_data(df):\n",
        "  #Create empty lists for user id and distance of co-ordinate\n",
        "  distances=[]\n",
        "  userids =[]\n",
        "  posn = df['user_id'].unique() #Get all unique userids from the dataframe as a list.\n",
        "\n",
        "  #Use below for loop to get user id find distance traveled for every user\n",
        "  for ids,usr in enumerate(posn):\n",
        "    a=df['coordinate'].where(df[\"user_id\"] ==usr).dropna().values\n",
        "    x1,y1,dist=0,0,0 #Initialise the variable for initial position of every user as the origin\n",
        "    userids.append(usr)\n",
        "    #print(type(x1),type(x2))\n",
        "\n",
        "    for y in a:\n",
        "      x2=int(y.split(',')[0])\n",
        "      y2=int(y.split(',')[1])\n",
        "      dist_1,dist_2=x1-x2, y1-y2\n",
        "      dist =abs(dist_1)+abs(dist_2) + dist\n",
        "      x1,y1 =x2,y2\n",
        "      #print(x1,type(x2),x2,type(y2),dist_1,dist_2,dist)\n",
        "    #Append each sum of distances and create a loist from this\n",
        "    distances.append(dist) \n",
        "\n",
        "  #Create dataframe based on user ids and distances list\n",
        "  d = {'user_id': userids, 'distance': distances} \n",
        "\n",
        "  indexs =[x for x in range(len(distances))]\n",
        "  df = pd.DataFrame(data=d)\n",
        "  df = df.sort_values('user_id')\n",
        "  df = df.reset_index(drop=True)\n",
        "  #return the dataframe \n",
        "  return df"
      ],
      "execution_count": 0,
      "outputs": []
    },
    {
      "cell_type": "code",
      "metadata": {
        "id": "bON2AHUeSY6V",
        "colab_type": "code",
        "colab": {}
      },
      "source": [
        "#created below function to load data in csv format\n",
        "def create_sol_file(df,filename):\n",
        "  df.to_csv(filename, index=False)"
      ],
      "execution_count": 0,
      "outputs": []
    },
    {
      "cell_type": "code",
      "metadata": {
        "id": "1RlzR5mmYgXq",
        "colab_type": "code",
        "colab": {}
      },
      "source": [
        "#test data on on_the_move sample\n",
        "train_pos = position_data(position)"
      ],
      "execution_count": 0,
      "outputs": []
    },
    {
      "cell_type": "code",
      "metadata": {
        "id": "rAOVk6EASxBn",
        "colab_type": "code",
        "colab": {
          "base_uri": "https://localhost:8080/",
          "height": 408
        },
        "outputId": "60c8e913-fe9c-48b6-f63e-26a5142f3bc8"
      },
      "source": [
        "print('Check the training data with solution.csv file data loaded : ')\n",
        "print('='*100)\n",
        "\n",
        "print(\"Training Data\")\n",
        "print(train_pos)\n",
        "print('='*100)\n",
        "\n",
        "print(\"Solution file data\")\n",
        "print(solution)"
      ],
      "execution_count": 214,
      "outputs": [
        {
          "output_type": "stream",
          "text": [
            "Check the training data with solution.csv file data loaded : \n",
            "====================================================================================================\n",
            "Training Data\n",
            "   user_id  distance\n",
            "0        1        13\n",
            "1        2        13\n",
            "2        3        30\n",
            "3        4        20\n",
            "4        5        33\n",
            "5        6        34\n",
            "6        7        11\n",
            "7        8        41\n",
            "====================================================================================================\n",
            "Solution file data\n",
            "   user_id  distance\n",
            "0        1        13\n",
            "1        2        13\n",
            "2        3        30\n",
            "3        4        20\n",
            "4        5        33\n",
            "5        6        34\n",
            "6        7        11\n",
            "7        8        41\n"
          ],
          "name": "stdout"
        }
      ]
    },
    {
      "cell_type": "code",
      "metadata": {
        "id": "DLSfHcCtZmdx",
        "colab_type": "code",
        "colab": {}
      },
      "source": [
        "#check on the testing data\n",
        "test_pos = position_data(position_test)"
      ],
      "execution_count": 0,
      "outputs": []
    },
    {
      "cell_type": "code",
      "metadata": {
        "id": "bY2CaN93as_-",
        "colab_type": "code",
        "colab": {}
      },
      "source": [
        "create_sol_file(test_pos,'test_solution.csv')"
      ],
      "execution_count": 0,
      "outputs": []
    },
    {
      "cell_type": "code",
      "metadata": {
        "id": "u1wt1PuybEuz",
        "colab_type": "code",
        "colab": {
          "base_uri": "https://localhost:8080/",
          "height": 204
        },
        "outputId": "d66cb75b-ce0d-4d61-8a08-65f96df6113b"
      },
      "source": [
        "test_pos.head()"
      ],
      "execution_count": 210,
      "outputs": [
        {
          "output_type": "execute_result",
          "data": {
            "text/html": [
              "<div>\n",
              "<style scoped>\n",
              "    .dataframe tbody tr th:only-of-type {\n",
              "        vertical-align: middle;\n",
              "    }\n",
              "\n",
              "    .dataframe tbody tr th {\n",
              "        vertical-align: top;\n",
              "    }\n",
              "\n",
              "    .dataframe thead th {\n",
              "        text-align: right;\n",
              "    }\n",
              "</style>\n",
              "<table border=\"1\" class=\"dataframe\">\n",
              "  <thead>\n",
              "    <tr style=\"text-align: right;\">\n",
              "      <th></th>\n",
              "      <th>user_id</th>\n",
              "      <th>distance</th>\n",
              "    </tr>\n",
              "  </thead>\n",
              "  <tbody>\n",
              "    <tr>\n",
              "      <th>0</th>\n",
              "      <td>2</td>\n",
              "      <td>91787</td>\n",
              "    </tr>\n",
              "    <tr>\n",
              "      <th>1</th>\n",
              "      <td>11</td>\n",
              "      <td>37529</td>\n",
              "    </tr>\n",
              "    <tr>\n",
              "      <th>2</th>\n",
              "      <td>13</td>\n",
              "      <td>29146</td>\n",
              "    </tr>\n",
              "    <tr>\n",
              "      <th>3</th>\n",
              "      <td>17</td>\n",
              "      <td>24662</td>\n",
              "    </tr>\n",
              "    <tr>\n",
              "      <th>4</th>\n",
              "      <td>23</td>\n",
              "      <td>22015</td>\n",
              "    </tr>\n",
              "  </tbody>\n",
              "</table>\n",
              "</div>"
            ],
            "text/plain": [
              "   user_id  distance\n",
              "0        2     91787\n",
              "1       11     37529\n",
              "2       13     29146\n",
              "3       17     24662\n",
              "4       23     22015"
            ]
          },
          "metadata": {
            "tags": []
          },
          "execution_count": 210
        }
      ]
    },
    {
      "cell_type": "code",
      "metadata": {
        "id": "q4IRBT1Jdj2A",
        "colab_type": "code",
        "colab": {}
      },
      "source": [
        ""
      ],
      "execution_count": 0,
      "outputs": []
    }
  ]
}